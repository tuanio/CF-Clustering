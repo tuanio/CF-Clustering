{
 "cells": [
  {
   "cell_type": "markdown",
   "id": "004e9e13-04f3-4eb8-b8cd-95a7b29b8c57",
   "metadata": {},
   "source": [
    "File này để chuẩn bị dữ liệu, chia train là 2020, test là 2021"
   ]
  },
  {
   "cell_type": "code",
   "execution_count": 1,
   "id": "16c31341-2cc4-433e-8176-48a841dbbf0d",
   "metadata": {},
   "outputs": [],
   "source": [
    "import pandas as pd\n",
    "import datetime as dt\n",
    "from sklearn.preprocessing import MinMaxScaler\n",
    "from sklearn.model_selection import train_test_split\n",
    "\n",
    "rs = 12"
   ]
  },
  {
   "cell_type": "code",
   "execution_count": 2,
   "id": "8a76aeca-382e-425d-8072-e9246515844e",
   "metadata": {},
   "outputs": [
    {
     "data": {
      "text/html": [
       "<div>\n",
       "<style scoped>\n",
       "    .dataframe tbody tr th:only-of-type {\n",
       "        vertical-align: middle;\n",
       "    }\n",
       "\n",
       "    .dataframe tbody tr th {\n",
       "        vertical-align: top;\n",
       "    }\n",
       "\n",
       "    .dataframe thead th {\n",
       "        text-align: right;\n",
       "    }\n",
       "</style>\n",
       "<table border=\"1\" class=\"dataframe\">\n",
       "  <thead>\n",
       "    <tr style=\"text-align: right;\">\n",
       "      <th></th>\n",
       "      <th>DateKey</th>\n",
       "      <th>User number</th>\n",
       "      <th>Full name</th>\n",
       "      <th>Product Name</th>\n",
       "      <th>Product Type</th>\n",
       "      <th>Quantity</th>\n",
       "      <th>Regular price</th>\n",
       "    </tr>\n",
       "  </thead>\n",
       "  <tbody>\n",
       "    <tr>\n",
       "      <th>0</th>\n",
       "      <td>2021-05-19</td>\n",
       "      <td>104002313</td>\n",
       "      <td>Nguyễn Phượng</td>\n",
       "      <td>Membership (2M_CN005_BUY2GIVE1)</td>\n",
       "      <td>Membership</td>\n",
       "      <td>1</td>\n",
       "      <td>798000</td>\n",
       "    </tr>\n",
       "    <tr>\n",
       "      <th>1</th>\n",
       "      <td>2021-05-18</td>\n",
       "      <td>107000624</td>\n",
       "      <td>Phong Quân</td>\n",
       "      <td>Membership (6M_CN007_PO_2)</td>\n",
       "      <td>Membership</td>\n",
       "      <td>1</td>\n",
       "      <td>1800000</td>\n",
       "    </tr>\n",
       "    <tr>\n",
       "      <th>2</th>\n",
       "      <td>2021-05-18</td>\n",
       "      <td>107000625</td>\n",
       "      <td>Nguyễn Hậu</td>\n",
       "      <td>Membership (6M_CN007_PO_2)</td>\n",
       "      <td>Membership</td>\n",
       "      <td>1</td>\n",
       "      <td>1800000</td>\n",
       "    </tr>\n",
       "    <tr>\n",
       "      <th>3</th>\n",
       "      <td>2021-05-18</td>\n",
       "      <td>107000626</td>\n",
       "      <td>Nguyễn Ân</td>\n",
       "      <td>Membership (6M_CN007_PO_2)</td>\n",
       "      <td>Membership</td>\n",
       "      <td>1</td>\n",
       "      <td>1800000</td>\n",
       "    </tr>\n",
       "    <tr>\n",
       "      <th>4</th>\n",
       "      <td>2021-05-17</td>\n",
       "      <td>105004342</td>\n",
       "      <td>Trần Ngân</td>\n",
       "      <td>Membership (2M_CN005_BUY2GIVE1)</td>\n",
       "      <td>Membership</td>\n",
       "      <td>1</td>\n",
       "      <td>798000</td>\n",
       "    </tr>\n",
       "    <tr>\n",
       "      <th>...</th>\n",
       "      <td>...</td>\n",
       "      <td>...</td>\n",
       "      <td>...</td>\n",
       "      <td>...</td>\n",
       "      <td>...</td>\n",
       "      <td>...</td>\n",
       "      <td>...</td>\n",
       "    </tr>\n",
       "    <tr>\n",
       "      <th>29989</th>\n",
       "      <td>2020-08-23</td>\n",
       "      <td>105000722</td>\n",
       "      <td>Trần Thư</td>\n",
       "      <td>Membership (6M_CN001_GENERAL)</td>\n",
       "      <td>Membership</td>\n",
       "      <td>1</td>\n",
       "      <td>2300000</td>\n",
       "    </tr>\n",
       "    <tr>\n",
       "      <th>29990</th>\n",
       "      <td>2020-08-23</td>\n",
       "      <td>105000723</td>\n",
       "      <td>Tăng Tùng Hòa</td>\n",
       "      <td>Membership (1M_CN005_PO_2)</td>\n",
       "      <td>Membership</td>\n",
       "      <td>1</td>\n",
       "      <td>319000</td>\n",
       "    </tr>\n",
       "    <tr>\n",
       "      <th>29991</th>\n",
       "      <td>2020-08-23</td>\n",
       "      <td>105000724</td>\n",
       "      <td>Trần Trâm</td>\n",
       "      <td>Membership (1M_CN005_PO_2)</td>\n",
       "      <td>Membership</td>\n",
       "      <td>1</td>\n",
       "      <td>319000</td>\n",
       "    </tr>\n",
       "    <tr>\n",
       "      <th>29992</th>\n",
       "      <td>2020-08-23</td>\n",
       "      <td>105000726</td>\n",
       "      <td>Mai Tai</td>\n",
       "      <td>Membership (1M_CN005_PO_2)</td>\n",
       "      <td>Membership</td>\n",
       "      <td>1</td>\n",
       "      <td>319000</td>\n",
       "    </tr>\n",
       "    <tr>\n",
       "      <th>29993</th>\n",
       "      <td>2020-08-23</td>\n",
       "      <td>105000727</td>\n",
       "      <td>Trần Tiên</td>\n",
       "      <td>Membership (1M_CN005_PO_2)</td>\n",
       "      <td>Membership</td>\n",
       "      <td>1</td>\n",
       "      <td>319000</td>\n",
       "    </tr>\n",
       "  </tbody>\n",
       "</table>\n",
       "<p>29994 rows × 7 columns</p>\n",
       "</div>"
      ],
      "text/plain": [
       "         DateKey  User number      Full name                     Product Name  \\\n",
       "0     2021-05-19    104002313  Nguyễn Phượng  Membership (2M_CN005_BUY2GIVE1)   \n",
       "1     2021-05-18    107000624     Phong Quân       Membership (6M_CN007_PO_2)   \n",
       "2     2021-05-18    107000625     Nguyễn Hậu       Membership (6M_CN007_PO_2)   \n",
       "3     2021-05-18    107000626      Nguyễn Ân       Membership (6M_CN007_PO_2)   \n",
       "4     2021-05-17    105004342      Trần Ngân  Membership (2M_CN005_BUY2GIVE1)   \n",
       "...          ...          ...            ...                              ...   \n",
       "29989 2020-08-23    105000722       Trần Thư    Membership (6M_CN001_GENERAL)   \n",
       "29990 2020-08-23    105000723  Tăng Tùng Hòa       Membership (1M_CN005_PO_2)   \n",
       "29991 2020-08-23    105000724      Trần Trâm       Membership (1M_CN005_PO_2)   \n",
       "29992 2020-08-23    105000726        Mai Tai       Membership (1M_CN005_PO_2)   \n",
       "29993 2020-08-23    105000727      Trần Tiên       Membership (1M_CN005_PO_2)   \n",
       "\n",
       "      Product Type  Quantity  Regular price  \n",
       "0       Membership         1         798000  \n",
       "1       Membership         1        1800000  \n",
       "2       Membership         1        1800000  \n",
       "3       Membership         1        1800000  \n",
       "4       Membership         1         798000  \n",
       "...            ...       ...            ...  \n",
       "29989   Membership         1        2300000  \n",
       "29990   Membership         1         319000  \n",
       "29991   Membership         1         319000  \n",
       "29992   Membership         1         319000  \n",
       "29993   Membership         1         319000  \n",
       "\n",
       "[29994 rows x 7 columns]"
      ]
     },
     "execution_count": 2,
     "metadata": {},
     "output_type": "execute_result"
    }
   ],
   "source": [
    "df = pd.read_excel('../data/Data3.xlsx')\n",
    "df['DateKey'] = df['DateKey'].map(lambda x: f'{str(x)[:4]}-{str(x)[4:6]}-{str(x)[6:]}')\n",
    "df['DateKey'] = pd.to_datetime(df['DateKey'])\n",
    "df"
   ]
  },
  {
   "cell_type": "code",
   "execution_count": 3,
   "id": "672ce8e4-e0fd-4631-b4cf-b04bb45d7a77",
   "metadata": {},
   "outputs": [],
   "source": [
    "# chỉ lấy 2020\n",
    "df = df[df['DateKey'].dt.year == 2020]"
   ]
  },
  {
   "cell_type": "code",
   "execution_count": 4,
   "id": "bd14b38f-815a-45e0-806c-c2f7fff6be13",
   "metadata": {},
   "outputs": [],
   "source": [
    "df.to_csv('../data/data.csv', index=False)"
   ]
  },
  {
   "cell_type": "code",
   "execution_count": 5,
   "id": "a662c199-583f-4f0e-8a3a-9a6bd6620932",
   "metadata": {},
   "outputs": [
    {
     "data": {
      "text/plain": [
       "(19784, 7)"
      ]
     },
     "execution_count": 5,
     "metadata": {},
     "output_type": "execute_result"
    }
   ],
   "source": [
    "df.shape"
   ]
  },
  {
   "cell_type": "markdown",
   "id": "45ccb913-c9e1-423b-a522-04f6af7a87d9",
   "metadata": {
    "tags": []
   },
   "source": [
    "# Xử lý dữ liệu"
   ]
  },
  {
   "cell_type": "code",
   "execution_count": 6,
   "id": "d0b30f2f-5d46-4870-bcb8-d030c2d504c5",
   "metadata": {},
   "outputs": [],
   "source": [
    "%run ../processing_data.py ../data/data.csv ../data/data_processed.csv"
   ]
  },
  {
   "cell_type": "markdown",
   "id": "cbc8fbfc-2b56-4560-9dda-c03b6e337bb5",
   "metadata": {},
   "source": [
    "# Tạo RFM data"
   ]
  },
  {
   "cell_type": "code",
   "execution_count": 7,
   "id": "97f12464-4329-4356-8cdb-7c94d1fff8f2",
   "metadata": {},
   "outputs": [],
   "source": [
    "data_processed = pd.read_csv('../data/data_processed.csv', parse_dates=[0])"
   ]
  },
  {
   "cell_type": "code",
   "execution_count": 8,
   "id": "199d9e94-4c55-4d2a-b3ab-be18d21b7b1c",
   "metadata": {},
   "outputs": [],
   "source": [
    "recency_unit = 1\n",
    "snapshot_date = dt.datetime(year=2022, month=12, day=31)\n",
    "\n",
    "def get_recency(d):\n",
    "    return (snapshot_date - d.max()).days // recency_unit\n",
    "\n",
    "# recency: lấy ngày snapshot - ngày mua cuối\n",
    "# frequency: tổng quantity\n",
    "# monetary: average số tiền mua\n",
    "\n",
    "scaler = MinMaxScaler()\n",
    "\n",
    "def get_rfm_data(dataframe):\n",
    "    dataframe = (dataframe\n",
    "            .groupby(['User number'])\n",
    "            .agg({'DateKey': get_recency, 'Quantity': 'count', 'Regular price': 'sum'})\n",
    "    )\n",
    "    user_id = dataframe.index\n",
    "    rfm = dataframe.values\n",
    "    rfm = scaler.fit_transform(rfm) # normalize\n",
    "    return pd.DataFrame(rfm, index=user_id, columns=['Recency', 'Frequency', 'Moneytary'])"
   ]
  },
  {
   "cell_type": "code",
   "execution_count": 9,
   "id": "5e3ca230-18a7-41d3-9822-06d8f83db8f6",
   "metadata": {},
   "outputs": [],
   "source": [
    "rfm_data = get_rfm_data(data_processed)"
   ]
  },
  {
   "cell_type": "code",
   "execution_count": 10,
   "id": "b8903d8f-03e4-4289-82c2-f9dc6244c2cd",
   "metadata": {},
   "outputs": [],
   "source": [
    "rfm_data.to_csv('../data/rfm_data.csv')"
   ]
  },
  {
   "cell_type": "code",
   "execution_count": 11,
   "id": "a50d2cae-b867-4777-8d6e-4dba50f4fd68",
   "metadata": {},
   "outputs": [
    {
     "data": {
      "text/plain": [
       "(8943, 3)"
      ]
     },
     "execution_count": 11,
     "metadata": {},
     "output_type": "execute_result"
    }
   ],
   "source": [
    "rfm_data.shape"
   ]
  }
 ],
 "metadata": {
  "kernelspec": {
   "display_name": "Python 3 (ipykernel)",
   "language": "python",
   "name": "python3"
  },
  "language_info": {
   "codemirror_mode": {
    "name": "ipython",
    "version": 3
   },
   "file_extension": ".py",
   "mimetype": "text/x-python",
   "name": "python",
   "nbconvert_exporter": "python",
   "pygments_lexer": "ipython3",
   "version": "3.9.7"
  }
 },
 "nbformat": 4,
 "nbformat_minor": 5
}
