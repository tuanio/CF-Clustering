{
 "cells": [
  {
   "cell_type": "markdown",
   "id": "004e9e13-04f3-4eb8-b8cd-95a7b29b8c57",
   "metadata": {},
   "source": [
    "File này để chuẩn bị dữ liệu, chia train là 2020, test là 2021"
   ]
  },
  {
   "cell_type": "code",
   "execution_count": 1,
   "id": "16c31341-2cc4-433e-8176-48a841dbbf0d",
   "metadata": {},
   "outputs": [],
   "source": [
    "import pandas as pd\n",
    "import datetime as dt\n",
    "from sklearn.preprocessing import MinMaxScaler\n",
    "from sklearn.model_selection import train_test_split\n",
    "\n",
    "rs = 12"
   ]
  },
  {
   "cell_type": "code",
   "execution_count": 2,
   "id": "8a76aeca-382e-425d-8072-e9246515844e",
   "metadata": {},
   "outputs": [
    {
     "data": {
      "text/html": [
       "<div>\n",
       "<style scoped>\n",
       "    .dataframe tbody tr th:only-of-type {\n",
       "        vertical-align: middle;\n",
       "    }\n",
       "\n",
       "    .dataframe tbody tr th {\n",
       "        vertical-align: top;\n",
       "    }\n",
       "\n",
       "    .dataframe thead th {\n",
       "        text-align: right;\n",
       "    }\n",
       "</style>\n",
       "<table border=\"1\" class=\"dataframe\">\n",
       "  <thead>\n",
       "    <tr style=\"text-align: right;\">\n",
       "      <th></th>\n",
       "      <th>DateKey</th>\n",
       "      <th>User number</th>\n",
       "      <th>Full name</th>\n",
       "      <th>Product Name</th>\n",
       "      <th>Product Type</th>\n",
       "      <th>Quantity</th>\n",
       "      <th>Regular price</th>\n",
       "    </tr>\n",
       "  </thead>\n",
       "  <tbody>\n",
       "    <tr>\n",
       "      <th>0</th>\n",
       "      <td>2021-05-19</td>\n",
       "      <td>104002313</td>\n",
       "      <td>Nguyễn Phượng</td>\n",
       "      <td>Membership (2M_CN005_BUY2GIVE1)</td>\n",
       "      <td>Membership</td>\n",
       "      <td>1</td>\n",
       "      <td>798000</td>\n",
       "    </tr>\n",
       "    <tr>\n",
       "      <th>1</th>\n",
       "      <td>2021-05-18</td>\n",
       "      <td>107000624</td>\n",
       "      <td>Phong Quân</td>\n",
       "      <td>Membership (6M_CN007_PO_2)</td>\n",
       "      <td>Membership</td>\n",
       "      <td>1</td>\n",
       "      <td>1800000</td>\n",
       "    </tr>\n",
       "    <tr>\n",
       "      <th>2</th>\n",
       "      <td>2021-05-18</td>\n",
       "      <td>107000625</td>\n",
       "      <td>Nguyễn Hậu</td>\n",
       "      <td>Membership (6M_CN007_PO_2)</td>\n",
       "      <td>Membership</td>\n",
       "      <td>1</td>\n",
       "      <td>1800000</td>\n",
       "    </tr>\n",
       "    <tr>\n",
       "      <th>3</th>\n",
       "      <td>2021-05-18</td>\n",
       "      <td>107000626</td>\n",
       "      <td>Nguyễn Ân</td>\n",
       "      <td>Membership (6M_CN007_PO_2)</td>\n",
       "      <td>Membership</td>\n",
       "      <td>1</td>\n",
       "      <td>1800000</td>\n",
       "    </tr>\n",
       "    <tr>\n",
       "      <th>4</th>\n",
       "      <td>2021-05-17</td>\n",
       "      <td>105004342</td>\n",
       "      <td>Trần Ngân</td>\n",
       "      <td>Membership (2M_CN005_BUY2GIVE1)</td>\n",
       "      <td>Membership</td>\n",
       "      <td>1</td>\n",
       "      <td>798000</td>\n",
       "    </tr>\n",
       "    <tr>\n",
       "      <th>...</th>\n",
       "      <td>...</td>\n",
       "      <td>...</td>\n",
       "      <td>...</td>\n",
       "      <td>...</td>\n",
       "      <td>...</td>\n",
       "      <td>...</td>\n",
       "      <td>...</td>\n",
       "    </tr>\n",
       "    <tr>\n",
       "      <th>29989</th>\n",
       "      <td>2020-08-23</td>\n",
       "      <td>105000722</td>\n",
       "      <td>Trần Thư</td>\n",
       "      <td>Membership (6M_CN001_GENERAL)</td>\n",
       "      <td>Membership</td>\n",
       "      <td>1</td>\n",
       "      <td>2300000</td>\n",
       "    </tr>\n",
       "    <tr>\n",
       "      <th>29990</th>\n",
       "      <td>2020-08-23</td>\n",
       "      <td>105000723</td>\n",
       "      <td>Tăng Tùng Hòa</td>\n",
       "      <td>Membership (1M_CN005_PO_2)</td>\n",
       "      <td>Membership</td>\n",
       "      <td>1</td>\n",
       "      <td>319000</td>\n",
       "    </tr>\n",
       "    <tr>\n",
       "      <th>29991</th>\n",
       "      <td>2020-08-23</td>\n",
       "      <td>105000724</td>\n",
       "      <td>Trần Trâm</td>\n",
       "      <td>Membership (1M_CN005_PO_2)</td>\n",
       "      <td>Membership</td>\n",
       "      <td>1</td>\n",
       "      <td>319000</td>\n",
       "    </tr>\n",
       "    <tr>\n",
       "      <th>29992</th>\n",
       "      <td>2020-08-23</td>\n",
       "      <td>105000726</td>\n",
       "      <td>Mai Tai</td>\n",
       "      <td>Membership (1M_CN005_PO_2)</td>\n",
       "      <td>Membership</td>\n",
       "      <td>1</td>\n",
       "      <td>319000</td>\n",
       "    </tr>\n",
       "    <tr>\n",
       "      <th>29993</th>\n",
       "      <td>2020-08-23</td>\n",
       "      <td>105000727</td>\n",
       "      <td>Trần Tiên</td>\n",
       "      <td>Membership (1M_CN005_PO_2)</td>\n",
       "      <td>Membership</td>\n",
       "      <td>1</td>\n",
       "      <td>319000</td>\n",
       "    </tr>\n",
       "  </tbody>\n",
       "</table>\n",
       "<p>29994 rows × 7 columns</p>\n",
       "</div>"
      ],
      "text/plain": [
       "         DateKey  User number      Full name                     Product Name  \\\n",
       "0     2021-05-19    104002313  Nguyễn Phượng  Membership (2M_CN005_BUY2GIVE1)   \n",
       "1     2021-05-18    107000624     Phong Quân       Membership (6M_CN007_PO_2)   \n",
       "2     2021-05-18    107000625     Nguyễn Hậu       Membership (6M_CN007_PO_2)   \n",
       "3     2021-05-18    107000626      Nguyễn Ân       Membership (6M_CN007_PO_2)   \n",
       "4     2021-05-17    105004342      Trần Ngân  Membership (2M_CN005_BUY2GIVE1)   \n",
       "...          ...          ...            ...                              ...   \n",
       "29989 2020-08-23    105000722       Trần Thư    Membership (6M_CN001_GENERAL)   \n",
       "29990 2020-08-23    105000723  Tăng Tùng Hòa       Membership (1M_CN005_PO_2)   \n",
       "29991 2020-08-23    105000724      Trần Trâm       Membership (1M_CN005_PO_2)   \n",
       "29992 2020-08-23    105000726        Mai Tai       Membership (1M_CN005_PO_2)   \n",
       "29993 2020-08-23    105000727      Trần Tiên       Membership (1M_CN005_PO_2)   \n",
       "\n",
       "      Product Type  Quantity  Regular price  \n",
       "0       Membership         1         798000  \n",
       "1       Membership         1        1800000  \n",
       "2       Membership         1        1800000  \n",
       "3       Membership         1        1800000  \n",
       "4       Membership         1         798000  \n",
       "...            ...       ...            ...  \n",
       "29989   Membership         1        2300000  \n",
       "29990   Membership         1         319000  \n",
       "29991   Membership         1         319000  \n",
       "29992   Membership         1         319000  \n",
       "29993   Membership         1         319000  \n",
       "\n",
       "[29994 rows x 7 columns]"
      ]
     },
     "execution_count": 2,
     "metadata": {},
     "output_type": "execute_result"
    }
   ],
   "source": [
    "df = pd.read_excel('../data/Data3.xlsx')\n",
    "df['DateKey'] = df['DateKey'].map(lambda x: f'{str(x)[:4]}-{str(x)[4:6]}-{str(x)[6:]}')\n",
    "df['DateKey'] = pd.to_datetime(df['DateKey'])\n",
    "df"
   ]
  },
  {
   "cell_type": "markdown",
   "id": "db864d94-aab2-48e3-a328-482f3c329e6c",
   "metadata": {},
   "source": [
    "# Chia train, test"
   ]
  },
  {
   "cell_type": "code",
   "execution_count": 3,
   "id": "a5427ba2-01b9-4fbb-9a16-78354349eb59",
   "metadata": {},
   "outputs": [
    {
     "data": {
      "text/plain": [
       "((19784, 7), (10210, 7))"
      ]
     },
     "execution_count": 3,
     "metadata": {},
     "output_type": "execute_result"
    }
   ],
   "source": [
    "# nếu muốn chia kiểu này\n",
    "# train = df[df.DateKey.dt.year == 2020]\n",
    "# test = df[df.DateKey.dt.year == 2021]\n",
    "# train.shape, test.shape"
   ]
  },
  {
   "cell_type": "code",
   "execution_count": null,
   "id": "14539fb5",
   "metadata": {},
   "outputs": [],
   "source": [
    "# hoặc chia kiểu này đều được\n",
    "\n",
    "data = df[df.DateKey.dt.year == 2020]\n",
    "\n",
    "train, test = train_test_split(data, test_size=0.20, random_state=rs)"
   ]
  },
  {
   "cell_type": "code",
   "execution_count": 4,
   "id": "c938531a-4dde-4ec7-b5a7-fa4be87104b7",
   "metadata": {},
   "outputs": [],
   "source": [
    "train.to_csv('../data/train.csv', index=False)\n",
    "test.to_csv('../data/test.csv', index=False)"
   ]
  },
  {
   "cell_type": "markdown",
   "id": "45ccb913-c9e1-423b-a522-04f6af7a87d9",
   "metadata": {},
   "source": [
    "# Xử lý dữ liệu"
   ]
  },
  {
   "cell_type": "code",
   "execution_count": 5,
   "id": "1f64eeac-6b4c-46fa-9509-50d195048e05",
   "metadata": {},
   "outputs": [],
   "source": [
    "%run ../processing_data.py ../data/train.csv ../data/train_processed.csv\n",
    "%run ../processing_data.py ../data/test.csv ../data/test_processed.csv"
   ]
  },
  {
   "cell_type": "markdown",
   "id": "cbc8fbfc-2b56-4560-9dda-c03b6e337bb5",
   "metadata": {},
   "source": [
    "# Tạo RFM data"
   ]
  },
  {
   "cell_type": "code",
   "execution_count": 6,
   "id": "873ff4cd-e269-4037-b5e2-da3959e554cf",
   "metadata": {},
   "outputs": [],
   "source": [
    "train_processed = pd.read_csv('../data/train_processed.csv', parse_dates=[0])\n",
    "test_processed = pd.read_csv('../data/test_processed.csv', parse_dates=[0])"
   ]
  },
  {
   "cell_type": "code",
   "execution_count": 7,
   "id": "199d9e94-4c55-4d2a-b3ab-be18d21b7b1c",
   "metadata": {},
   "outputs": [],
   "source": [
    "recency_unit = 1\n",
    "snapshot_date = dt.datetime(year=2022, month=12, day=31)\n",
    "\n",
    "def get_recency(d):\n",
    "    return (snapshot_date - d.max()).days // recency_unit\n",
    "\n",
    "# recency: lấy ngày snapshot - ngày mua cuối\n",
    "# frequency: tổng quantity\n",
    "# monetary: average số tiền mua\n",
    "\n",
    "scaler = MinMaxScaler()\n",
    "\n",
    "def get_rfm_data(dataframe, is_train):\n",
    "    dataframe = (dataframe\n",
    "            .groupby(['User number'])\n",
    "            .agg({'DateKey': get_recency, 'Quantity': 'count', 'Regular price': 'sum'})\n",
    "    )\n",
    "    user_id = dataframe.index\n",
    "    rfm = dataframe.values\n",
    "    rfm = scaler.fit_transform(rfm) # normalize\n",
    "    return pd.DataFrame(rfm, index=user_id, columns=['Recency', 'Frequency', 'Moneytary'])"
   ]
  },
  {
   "cell_type": "code",
   "execution_count": 8,
   "id": "ea9e4340-1195-4fb9-8812-6c15e0bb0ae4",
   "metadata": {},
   "outputs": [],
   "source": [
    "rfm_train = get_rfm_data(train_processed, True)\n",
    "rfm_test =  get_rfm_data(test_processed, False)"
   ]
  },
  {
   "cell_type": "code",
   "execution_count": 9,
   "id": "f14e3c4e-f6d7-4794-9fc1-b5ab5dbfbf91",
   "metadata": {},
   "outputs": [],
   "source": [
    "rfm_train.to_csv('../data/rfm_train.csv')\n",
    "rfm_test.to_csv('../data/rfm_test.csv')"
   ]
  }
 ],
 "metadata": {
  "kernelspec": {
   "display_name": "Python 3 (ipykernel)",
   "language": "python",
   "name": "python3"
  },
  "language_info": {
   "codemirror_mode": {
    "name": "ipython",
    "version": 3
   },
   "file_extension": ".py",
   "mimetype": "text/x-python",
   "name": "python",
   "nbconvert_exporter": "python",
   "pygments_lexer": "ipython3",
   "version": "3.9.7"
  }
 },
 "nbformat": 4,
 "nbformat_minor": 5
}
