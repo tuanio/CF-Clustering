{
 "cells": [
  {
   "cell_type": "code",
   "execution_count": 2,
   "id": "1bf41c57",
   "metadata": {
    "scrolled": false
   },
   "outputs": [
    {
     "name": "stdout",
     "output_type": "stream",
     "text": [
      "Requirement already satisfied: sklearn in c:\\users\\nvatu\\anaconda3\\lib\\site-packages (0.0)\n",
      "Requirement already satisfied: fuzzy-c-means in c:\\users\\nvatu\\anaconda3\\lib\\site-packages (1.6.4)\n",
      "Requirement already satisfied: scikit-learn in c:\\users\\nvatu\\anaconda3\\lib\\site-packages (from sklearn) (1.0.1)\n",
      "Requirement already satisfied: pydantic<2.0.0,>=1.9.0 in c:\\users\\nvatu\\anaconda3\\lib\\site-packages (from fuzzy-c-means) (1.9.0)\n",
      "Requirement already satisfied: tabulate<0.9.0,>=0.8.9 in c:\\users\\nvatu\\anaconda3\\lib\\site-packages (from fuzzy-c-means) (0.8.9)\n",
      "Requirement already satisfied: numpy<2.0.0,>=1.21.1 in c:\\users\\nvatu\\anaconda3\\lib\\site-packages (from fuzzy-c-means) (1.21.4)\n",
      "Requirement already satisfied: typer<0.5.0,>=0.4.0 in c:\\users\\nvatu\\anaconda3\\lib\\site-packages (from fuzzy-c-means) (0.4.1)\n",
      "Requirement already satisfied: typing-extensions>=3.7.4.3 in c:\\users\\nvatu\\anaconda3\\lib\\site-packages (from pydantic<2.0.0,>=1.9.0->fuzzy-c-means) (3.10.0.2)\n",
      "Requirement already satisfied: click<9.0.0,>=7.1.1 in c:\\users\\nvatu\\anaconda3\\lib\\site-packages (from typer<0.5.0,>=0.4.0->fuzzy-c-means) (8.0.3)\n",
      "Requirement already satisfied: scipy>=1.1.0 in c:\\users\\nvatu\\anaconda3\\lib\\site-packages (from scikit-learn->sklearn) (1.7.2)\n",
      "Requirement already satisfied: threadpoolctl>=2.0.0 in c:\\users\\nvatu\\anaconda3\\lib\\site-packages (from scikit-learn->sklearn) (3.0.0)\n",
      "Requirement already satisfied: joblib>=0.11 in c:\\users\\nvatu\\anaconda3\\lib\\site-packages (from scikit-learn->sklearn) (1.1.0)\n",
      "Requirement already satisfied: colorama in c:\\users\\nvatu\\anaconda3\\lib\\site-packages (from click<9.0.0,>=7.1.1->typer<0.5.0,>=0.4.0->fuzzy-c-means) (0.4.4)\n"
     ]
    }
   ],
   "source": [
    "# cài đặt thư viện cần thiết\n",
    "!pip install sklearn fuzzy-c-means"
   ]
  },
  {
   "cell_type": "code",
   "execution_count": 10,
   "id": "59ff43ce",
   "metadata": {},
   "outputs": [],
   "source": [
    "# load thư viện cần thiết\n",
    "\n",
    "import pandas as pd\n",
    "import numpy as np\n",
    "import matplotlib.pyplot as plt\n",
    "from sklearn.cluster import KMeans\n",
    "from sklearn.metrics import silhouette_score\n",
    "from fcmeans import FCM"
   ]
  },
  {
   "cell_type": "code",
   "execution_count": 65,
   "id": "0fab556f",
   "metadata": {},
   "outputs": [],
   "source": [
    "# random state\n",
    "rs = 12"
   ]
  },
  {
   "cell_type": "code",
   "execution_count": 4,
   "id": "e20e8992",
   "metadata": {
    "scrolled": false
   },
   "outputs": [
    {
     "data": {
      "text/html": [
       "<div>\n",
       "<style scoped>\n",
       "    .dataframe tbody tr th:only-of-type {\n",
       "        vertical-align: middle;\n",
       "    }\n",
       "\n",
       "    .dataframe tbody tr th {\n",
       "        vertical-align: top;\n",
       "    }\n",
       "\n",
       "    .dataframe thead th {\n",
       "        text-align: right;\n",
       "    }\n",
       "</style>\n",
       "<table border=\"1\" class=\"dataframe\">\n",
       "  <thead>\n",
       "    <tr style=\"text-align: right;\">\n",
       "      <th></th>\n",
       "      <th>CustomerID</th>\n",
       "      <th>Recency</th>\n",
       "      <th>Frequency</th>\n",
       "      <th>Moneytary</th>\n",
       "    </tr>\n",
       "  </thead>\n",
       "  <tbody>\n",
       "    <tr>\n",
       "      <th>0</th>\n",
       "      <td>101000281</td>\n",
       "      <td>0.0</td>\n",
       "      <td>0.008787</td>\n",
       "      <td>0.198388</td>\n",
       "    </tr>\n",
       "    <tr>\n",
       "      <th>1</th>\n",
       "      <td>101000282</td>\n",
       "      <td>0.0</td>\n",
       "      <td>0.005272</td>\n",
       "      <td>0.014864</td>\n",
       "    </tr>\n",
       "    <tr>\n",
       "      <th>2</th>\n",
       "      <td>101000283</td>\n",
       "      <td>0.0</td>\n",
       "      <td>0.007030</td>\n",
       "      <td>0.018580</td>\n",
       "    </tr>\n",
       "    <tr>\n",
       "      <th>3</th>\n",
       "      <td>101000320</td>\n",
       "      <td>0.0</td>\n",
       "      <td>0.000000</td>\n",
       "      <td>0.007432</td>\n",
       "    </tr>\n",
       "    <tr>\n",
       "      <th>4</th>\n",
       "      <td>101000325</td>\n",
       "      <td>0.0</td>\n",
       "      <td>0.000000</td>\n",
       "      <td>0.037294</td>\n",
       "    </tr>\n",
       "    <tr>\n",
       "      <th>...</th>\n",
       "      <td>...</td>\n",
       "      <td>...</td>\n",
       "      <td>...</td>\n",
       "      <td>...</td>\n",
       "    </tr>\n",
       "    <tr>\n",
       "      <th>12359</th>\n",
       "      <td>107000620</td>\n",
       "      <td>1.0</td>\n",
       "      <td>0.000000</td>\n",
       "      <td>0.021311</td>\n",
       "    </tr>\n",
       "    <tr>\n",
       "      <th>12360</th>\n",
       "      <td>107000623</td>\n",
       "      <td>1.0</td>\n",
       "      <td>0.000000</td>\n",
       "      <td>0.003716</td>\n",
       "    </tr>\n",
       "    <tr>\n",
       "      <th>12361</th>\n",
       "      <td>107000624</td>\n",
       "      <td>1.0</td>\n",
       "      <td>0.000000</td>\n",
       "      <td>0.021311</td>\n",
       "    </tr>\n",
       "    <tr>\n",
       "      <th>12362</th>\n",
       "      <td>107000625</td>\n",
       "      <td>1.0</td>\n",
       "      <td>0.000000</td>\n",
       "      <td>0.021311</td>\n",
       "    </tr>\n",
       "    <tr>\n",
       "      <th>12363</th>\n",
       "      <td>107000626</td>\n",
       "      <td>1.0</td>\n",
       "      <td>0.000000</td>\n",
       "      <td>0.021311</td>\n",
       "    </tr>\n",
       "  </tbody>\n",
       "</table>\n",
       "<p>12364 rows × 4 columns</p>\n",
       "</div>"
      ],
      "text/plain": [
       "       CustomerID  Recency  Frequency  Moneytary\n",
       "0       101000281      0.0   0.008787   0.198388\n",
       "1       101000282      0.0   0.005272   0.014864\n",
       "2       101000283      0.0   0.007030   0.018580\n",
       "3       101000320      0.0   0.000000   0.007432\n",
       "4       101000325      0.0   0.000000   0.037294\n",
       "...           ...      ...        ...        ...\n",
       "12359   107000620      1.0   0.000000   0.021311\n",
       "12360   107000623      1.0   0.000000   0.003716\n",
       "12361   107000624      1.0   0.000000   0.021311\n",
       "12362   107000625      1.0   0.000000   0.021311\n",
       "12363   107000626      1.0   0.000000   0.021311\n",
       "\n",
       "[12364 rows x 4 columns]"
      ]
     },
     "execution_count": 4,
     "metadata": {},
     "output_type": "execute_result"
    }
   ],
   "source": [
    "# đọc dữ liệu\n",
    "df = pd.read_csv('../data/rfm_data.csv')\n",
    "df"
   ]
  },
  {
   "cell_type": "code",
   "execution_count": 5,
   "id": "fba6f6e5",
   "metadata": {},
   "outputs": [
    {
     "data": {
      "text/html": [
       "<div>\n",
       "<style scoped>\n",
       "    .dataframe tbody tr th:only-of-type {\n",
       "        vertical-align: middle;\n",
       "    }\n",
       "\n",
       "    .dataframe tbody tr th {\n",
       "        vertical-align: top;\n",
       "    }\n",
       "\n",
       "    .dataframe thead th {\n",
       "        text-align: right;\n",
       "    }\n",
       "</style>\n",
       "<table border=\"1\" class=\"dataframe\">\n",
       "  <thead>\n",
       "    <tr style=\"text-align: right;\">\n",
       "      <th></th>\n",
       "      <th>variable</th>\n",
       "      <th>weight</th>\n",
       "    </tr>\n",
       "  </thead>\n",
       "  <tbody>\n",
       "    <tr>\n",
       "      <th>0</th>\n",
       "      <td>Recency</td>\n",
       "      <td>0.137</td>\n",
       "    </tr>\n",
       "    <tr>\n",
       "      <th>1</th>\n",
       "      <td>Frequency</td>\n",
       "      <td>0.328</td>\n",
       "    </tr>\n",
       "    <tr>\n",
       "      <th>2</th>\n",
       "      <td>Moneytary</td>\n",
       "      <td>0.535</td>\n",
       "    </tr>\n",
       "  </tbody>\n",
       "</table>\n",
       "</div>"
      ],
      "text/plain": [
       "    variable  weight\n",
       "0    Recency   0.137\n",
       "1  Frequency   0.328\n",
       "2  Moneytary   0.535"
      ]
     },
     "execution_count": 5,
     "metadata": {},
     "output_type": "execute_result"
    }
   ],
   "source": [
    "# load trọng số lên\n",
    "rfm_weight = pd.read_csv('../data/rfm_weight.csv')\n",
    "rfm_weight"
   ]
  },
  {
   "cell_type": "code",
   "execution_count": 6,
   "id": "0f9d6113",
   "metadata": {},
   "outputs": [
    {
     "data": {
      "text/plain": [
       "{'Recency': 0.137, 'Frequency': 0.328, 'Moneytary': 0.535}"
      ]
     },
     "execution_count": 6,
     "metadata": {},
     "output_type": "execute_result"
    }
   ],
   "source": [
    "# lấy trọng số ra\n",
    "w = rfm_weight.set_index('variable').to_dict()['weight']\n",
    "w"
   ]
  },
  {
   "cell_type": "code",
   "execution_count": 7,
   "id": "963e638d",
   "metadata": {
    "scrolled": true
   },
   "outputs": [],
   "source": [
    "# nhân trọng số vào mỗi cột\n",
    "df.iloc[:, 1:] = df.iloc[:, 1:].apply(lambda x: x * w[x.name])"
   ]
  },
  {
   "cell_type": "code",
   "execution_count": 8,
   "id": "a7892c4c",
   "metadata": {},
   "outputs": [
    {
     "data": {
      "text/html": [
       "<div>\n",
       "<style scoped>\n",
       "    .dataframe tbody tr th:only-of-type {\n",
       "        vertical-align: middle;\n",
       "    }\n",
       "\n",
       "    .dataframe tbody tr th {\n",
       "        vertical-align: top;\n",
       "    }\n",
       "\n",
       "    .dataframe thead th {\n",
       "        text-align: right;\n",
       "    }\n",
       "</style>\n",
       "<table border=\"1\" class=\"dataframe\">\n",
       "  <thead>\n",
       "    <tr style=\"text-align: right;\">\n",
       "      <th></th>\n",
       "      <th>CustomerID</th>\n",
       "      <th>Recency</th>\n",
       "      <th>Frequency</th>\n",
       "      <th>Moneytary</th>\n",
       "    </tr>\n",
       "  </thead>\n",
       "  <tbody>\n",
       "    <tr>\n",
       "      <th>0</th>\n",
       "      <td>101000281</td>\n",
       "      <td>0.000</td>\n",
       "      <td>0.002882</td>\n",
       "      <td>0.106138</td>\n",
       "    </tr>\n",
       "    <tr>\n",
       "      <th>1</th>\n",
       "      <td>101000282</td>\n",
       "      <td>0.000</td>\n",
       "      <td>0.001729</td>\n",
       "      <td>0.007952</td>\n",
       "    </tr>\n",
       "    <tr>\n",
       "      <th>2</th>\n",
       "      <td>101000283</td>\n",
       "      <td>0.000</td>\n",
       "      <td>0.002306</td>\n",
       "      <td>0.009940</td>\n",
       "    </tr>\n",
       "    <tr>\n",
       "      <th>3</th>\n",
       "      <td>101000320</td>\n",
       "      <td>0.000</td>\n",
       "      <td>0.000000</td>\n",
       "      <td>0.003976</td>\n",
       "    </tr>\n",
       "    <tr>\n",
       "      <th>4</th>\n",
       "      <td>101000325</td>\n",
       "      <td>0.000</td>\n",
       "      <td>0.000000</td>\n",
       "      <td>0.019952</td>\n",
       "    </tr>\n",
       "    <tr>\n",
       "      <th>...</th>\n",
       "      <td>...</td>\n",
       "      <td>...</td>\n",
       "      <td>...</td>\n",
       "      <td>...</td>\n",
       "    </tr>\n",
       "    <tr>\n",
       "      <th>12359</th>\n",
       "      <td>107000620</td>\n",
       "      <td>0.137</td>\n",
       "      <td>0.000000</td>\n",
       "      <td>0.011401</td>\n",
       "    </tr>\n",
       "    <tr>\n",
       "      <th>12360</th>\n",
       "      <td>107000623</td>\n",
       "      <td>0.137</td>\n",
       "      <td>0.000000</td>\n",
       "      <td>0.001988</td>\n",
       "    </tr>\n",
       "    <tr>\n",
       "      <th>12361</th>\n",
       "      <td>107000624</td>\n",
       "      <td>0.137</td>\n",
       "      <td>0.000000</td>\n",
       "      <td>0.011401</td>\n",
       "    </tr>\n",
       "    <tr>\n",
       "      <th>12362</th>\n",
       "      <td>107000625</td>\n",
       "      <td>0.137</td>\n",
       "      <td>0.000000</td>\n",
       "      <td>0.011401</td>\n",
       "    </tr>\n",
       "    <tr>\n",
       "      <th>12363</th>\n",
       "      <td>107000626</td>\n",
       "      <td>0.137</td>\n",
       "      <td>0.000000</td>\n",
       "      <td>0.011401</td>\n",
       "    </tr>\n",
       "  </tbody>\n",
       "</table>\n",
       "<p>12364 rows × 4 columns</p>\n",
       "</div>"
      ],
      "text/plain": [
       "       CustomerID  Recency  Frequency  Moneytary\n",
       "0       101000281    0.000   0.002882   0.106138\n",
       "1       101000282    0.000   0.001729   0.007952\n",
       "2       101000283    0.000   0.002306   0.009940\n",
       "3       101000320    0.000   0.000000   0.003976\n",
       "4       101000325    0.000   0.000000   0.019952\n",
       "...           ...      ...        ...        ...\n",
       "12359   107000620    0.137   0.000000   0.011401\n",
       "12360   107000623    0.137   0.000000   0.001988\n",
       "12361   107000624    0.137   0.000000   0.011401\n",
       "12362   107000625    0.137   0.000000   0.011401\n",
       "12363   107000626    0.137   0.000000   0.011401\n",
       "\n",
       "[12364 rows x 4 columns]"
      ]
     },
     "execution_count": 8,
     "metadata": {},
     "output_type": "execute_result"
    }
   ],
   "source": [
    "df"
   ]
  },
  {
   "cell_type": "markdown",
   "id": "df553038",
   "metadata": {},
   "source": [
    "## Chuẩn bị dữ liệu"
   ]
  },
  {
   "cell_type": "code",
   "execution_count": 12,
   "id": "5a83d0fa",
   "metadata": {},
   "outputs": [
    {
     "data": {
      "text/plain": [
       "(array([101000281, 101000282, 101000283, ..., 107000624, 107000625,\n",
       "        107000626], dtype=int64),\n",
       " array([[0.        , 0.00288225, 0.10613779],\n",
       "        [0.        , 0.00172935, 0.00795232],\n",
       "        [0.        , 0.0023058 , 0.0099404 ],\n",
       "        ...,\n",
       "        [0.137     , 0.        , 0.01140117],\n",
       "        [0.137     , 0.        , 0.01140117],\n",
       "        [0.137     , 0.        , 0.01140117]]))"
      ]
     },
     "execution_count": 12,
     "metadata": {},
     "output_type": "execute_result"
    }
   ],
   "source": [
    "cust_id = df.iloc[:, 0].values\n",
    "X = df.iloc[:, 1:].values\n",
    "cust_id, X"
   ]
  },
  {
   "cell_type": "markdown",
   "id": "ea3fdf57",
   "metadata": {},
   "source": [
    "# Phân cụm"
   ]
  },
  {
   "cell_type": "markdown",
   "id": "c32821b4",
   "metadata": {},
   "source": [
    "## KMeans"
   ]
  },
  {
   "cell_type": "code",
   "execution_count": 18,
   "id": "8b607732",
   "metadata": {},
   "outputs": [
    {
     "data": {
      "text/plain": [
       "array([ 2,  3,  4,  5,  6,  7,  8,  9, 10])"
      ]
     },
     "execution_count": 18,
     "metadata": {},
     "output_type": "execute_result"
    }
   ],
   "source": [
    "# dùng thang đo silhouette để chọn số cụm\n",
    "# để số cụm từ 3 -> 10\n",
    "\n",
    "range_k = np.arange(2, 11)\n",
    "range_k"
   ]
  },
  {
   "cell_type": "code",
   "execution_count": 75,
   "id": "24b48f01",
   "metadata": {},
   "outputs": [],
   "source": [
    "def make_kmean(k: int):\n",
    "    model = KMeans(n_clusters=k, random_state=rs)\n",
    "    model.fit(X)\n",
    "    cluster_labels = model.predict(X)\n",
    "    sil_score = silhouette_score(X, cluster_labels)\n",
    "    print(f\"K: {k} done\")\n",
    "    return dict(\n",
    "        k=k,\n",
    "        cluster_labels=cluster_labels,\n",
    "        sil_score=sil_score\n",
    "    )"
   ]
  },
  {
   "cell_type": "code",
   "execution_count": 76,
   "id": "8b3f5d81",
   "metadata": {},
   "outputs": [
    {
     "name": "stdout",
     "output_type": "stream",
     "text": [
      "K: 2 done\n",
      "K: 3 done\n",
      "K: 4 done\n",
      "K: 5 done\n",
      "K: 6 done\n",
      "K: 7 done\n",
      "K: 8 done\n",
      "K: 9 done\n",
      "K: 10 done\n"
     ]
    }
   ],
   "source": [
    "kmean_final_cluster = [make_kmean(k) for k in range_k]"
   ]
  },
  {
   "cell_type": "code",
   "execution_count": 77,
   "id": "1f4ee77d",
   "metadata": {},
   "outputs": [],
   "source": [
    "# sắp xếp các mô hình KMean theo chỉ số sihouette (từ cao xuống thấp)\n",
    "sorted_kmean_final_cluster = sorted(kmean_final_cluster, key=lambda x: x['sil_score'], reverse=True)"
   ]
  },
  {
   "cell_type": "code",
   "execution_count": 84,
   "id": "3eefb8a6",
   "metadata": {},
   "outputs": [
    {
     "data": {
      "text/plain": [
       "[{'k': 3,\n",
       "  'cluster_labels': array([2, 2, 2, ..., 1, 1, 1]),\n",
       "  'sil_score': 0.6116619074690446},\n",
       " {'k': 5,\n",
       "  'cluster_labels': array([2, 3, 3, ..., 0, 0, 0]),\n",
       "  'sil_score': 0.5928988170286317},\n",
       " {'k': 4,\n",
       "  'cluster_labels': array([3, 3, 3, ..., 2, 2, 2]),\n",
       "  'sil_score': 0.58774732047867},\n",
       " {'k': 2,\n",
       "  'cluster_labels': array([1, 1, 1, ..., 0, 0, 0]),\n",
       "  'sil_score': 0.5783160307359263},\n",
       " {'k': 9,\n",
       "  'cluster_labels': array([2, 1, 1, ..., 3, 3, 3]),\n",
       "  'sil_score': 0.5360868267549826},\n",
       " {'k': 6,\n",
       "  'cluster_labels': array([5, 0, 0, ..., 4, 4, 4]),\n",
       "  'sil_score': 0.5289474893998432},\n",
       " {'k': 10,\n",
       "  'cluster_labels': array([7, 2, 2, ..., 1, 1, 1]),\n",
       "  'sil_score': 0.4995192937946345},\n",
       " {'k': 8,\n",
       "  'cluster_labels': array([3, 1, 1, ..., 0, 0, 0]),\n",
       "  'sil_score': 0.49403670067184413},\n",
       " {'k': 7,\n",
       "  'cluster_labels': array([5, 1, 1, ..., 3, 3, 3]),\n",
       "  'sil_score': 0.4743109485356541}]"
      ]
     },
     "execution_count": 84,
     "metadata": {},
     "output_type": "execute_result"
    }
   ],
   "source": [
    "sorted_kmean_final_cluster"
   ]
  },
  {
   "cell_type": "code",
   "execution_count": 78,
   "id": "c6b258e5",
   "metadata": {},
   "outputs": [
    {
     "name": "stdout",
     "output_type": "stream",
     "text": [
      "Số cụm tốt nhất cho KMeans là 3 với giá trị sihouette: 0.6116619074690446\n"
     ]
    }
   ],
   "source": [
    "# lấy mô hình có giá trị sihouette tốt nhất\n",
    "\n",
    "best_k_kmean = sorted_kmean_final_cluster[0]['k']\n",
    "kmean_cluster_labels = sorted_kmean_final_cluster[0]['cluster_labels']\n",
    "kmean_sil_score = sorted_kmean_final_cluster[0]['sil_score']\n",
    "print(f'Số cụm tốt nhất cho KMeans là {best_k_kmean} với giá trị sihouette: {kmean_sil_score}')"
   ]
  },
  {
   "cell_type": "code",
   "execution_count": 79,
   "id": "caf96e44",
   "metadata": {
    "scrolled": true
   },
   "outputs": [],
   "source": [
    "kmean_cluster_df = pd.DataFrame(\n",
    "    {'CustomerID': cust_id, 'Cluster Label': kmean_cluster_labels}\n",
    ")\n",
    "df.merge(kmean_cluster_df, on='CustomerID').to_csv(\n",
    "    '../data/cluster_kmeans.csv', index=False)"
   ]
  },
  {
   "cell_type": "markdown",
   "id": "02ab7239",
   "metadata": {},
   "source": [
    "### Fuzzy C-Mean"
   ]
  },
  {
   "cell_type": "code",
   "execution_count": 80,
   "id": "aecb727b",
   "metadata": {},
   "outputs": [],
   "source": [
    "def make_fuzzycmean(k: int):\n",
    "    model = FCM(n_clusters=k, random_state=rs)\n",
    "    model.fit(X)\n",
    "    cluster_labels = model.predict(X)\n",
    "    sil_score = silhouette_score(X, cluster_labels)\n",
    "    print(f\"K: {k} done\")\n",
    "    return dict(\n",
    "        k=k,\n",
    "        cluster_labels=cluster_labels,\n",
    "        sil_score=sil_score\n",
    "    )"
   ]
  },
  {
   "cell_type": "code",
   "execution_count": 81,
   "id": "30cac275",
   "metadata": {},
   "outputs": [
    {
     "name": "stdout",
     "output_type": "stream",
     "text": [
      "K: 2 done\n",
      "K: 3 done\n",
      "K: 4 done\n",
      "K: 5 done\n",
      "K: 6 done\n",
      "K: 7 done\n",
      "K: 8 done\n",
      "K: 9 done\n",
      "K: 10 done\n"
     ]
    }
   ],
   "source": [
    "fuzzycmean_final_cluster = [make_fuzzycmean(k) for k in range_k]"
   ]
  },
  {
   "cell_type": "code",
   "execution_count": 82,
   "id": "657e8dd3",
   "metadata": {},
   "outputs": [],
   "source": [
    "# sắp xếp các mô hình Fuzzy C Mean theo chỉ số sihouette (từ cao xuống thấp)\n",
    "sorted_fuzzycmean_final_cluster = sorted(fuzzycmean_final_cluster, key=lambda x: x['sil_score'], reverse=True)"
   ]
  },
  {
   "cell_type": "code",
   "execution_count": 83,
   "id": "d8c99f3d",
   "metadata": {},
   "outputs": [
    {
     "data": {
      "text/plain": [
       "[{'k': 2,\n",
       "  'cluster_labels': array([1, 1, 1, ..., 0, 0, 0], dtype=int64),\n",
       "  'sil_score': 0.5786705987260033},\n",
       " {'k': 3,\n",
       "  'cluster_labels': array([2, 2, 2, ..., 0, 0, 0], dtype=int64),\n",
       "  'sil_score': 0.5327575117658847},\n",
       " {'k': 4,\n",
       "  'cluster_labels': array([2, 2, 2, ..., 0, 0, 0], dtype=int64),\n",
       "  'sil_score': 0.4677845169109287},\n",
       " {'k': 5,\n",
       "  'cluster_labels': array([3, 3, 3, ..., 4, 4, 4], dtype=int64),\n",
       "  'sil_score': 0.42309354954017947},\n",
       " {'k': 10,\n",
       "  'cluster_labels': array([7, 7, 7, ..., 8, 8, 8], dtype=int64),\n",
       "  'sil_score': 0.39506491646153696},\n",
       " {'k': 8,\n",
       "  'cluster_labels': array([6, 6, 6, ..., 2, 2, 2], dtype=int64),\n",
       "  'sil_score': 0.370863482095966},\n",
       " {'k': 6,\n",
       "  'cluster_labels': array([1, 1, 1, ..., 3, 3, 3], dtype=int64),\n",
       "  'sil_score': 0.3112871120843759},\n",
       " {'k': 7,\n",
       "  'cluster_labels': array([2, 2, 2, ..., 6, 6, 6], dtype=int64),\n",
       "  'sil_score': 0.2962601267763827},\n",
       " {'k': 9,\n",
       "  'cluster_labels': array([7, 7, 7, ..., 6, 6, 6], dtype=int64),\n",
       "  'sil_score': 0.2221153676618968}]"
      ]
     },
     "execution_count": 83,
     "metadata": {},
     "output_type": "execute_result"
    }
   ],
   "source": [
    "sorted_fuzzycmean_final_cluster"
   ]
  },
  {
   "cell_type": "code",
   "execution_count": 85,
   "id": "76e8e5b1",
   "metadata": {},
   "outputs": [
    {
     "name": "stdout",
     "output_type": "stream",
     "text": [
      "Số cụm tốt nhất cho KMeans là 2 với giá trị sihouette: 0.5786705987260033\n"
     ]
    }
   ],
   "source": [
    "# lấy mô hình có giá trị sihouette tốt nhất\n",
    "\n",
    "best_k_fuzzycmean = sorted_fuzzycmean_final_cluster[0]['k']\n",
    "fuzzycmean_cluster_labels = sorted_fuzzycmean_final_cluster[0]['cluster_labels']\n",
    "fuzzycmean_sil_score = sorted_fuzzycmean_final_cluster[0]['sil_score']\n",
    "print(f'Số cụm tốt nhất cho KMeans là {best_k_fuzzycmean} với giá trị sihouette: {fuzzycmean_sil_score}')"
   ]
  },
  {
   "cell_type": "code",
   "execution_count": 86,
   "id": "b7b9a030",
   "metadata": {},
   "outputs": [],
   "source": [
    "fuzzycmean_cluster_df = pd.DataFrame(\n",
    "    {'CustomerID': cust_id, 'Cluster Label': fuzzycmean_cluster_labels}\n",
    ")\n",
    "df.merge(fuzzycmean_cluster_df, on='CustomerID').to_csv(\n",
    "    '../data/cluster_fuzzycmean.csv', index=False)"
   ]
  },
  {
   "cell_type": "code",
   "execution_count": 93,
   "id": "bee55779",
   "metadata": {
    "scrolled": false
   },
   "outputs": [
    {
     "name": "stdout",
     "output_type": "stream",
     "text": [
      "Số lượng khách hàng có giá trị cụm ở cả hai thuật toán bằng nhau: 201\n"
     ]
    }
   ],
   "source": [
    "total_match = (fuzzycmean_cluster_df.iloc[:, -1] == kmean_cluster_df.iloc[:, -1]).sum()\n",
    "print(\"Số lượng khách hàng có giá trị cụm ở cả hai thuật toán bằng nhau:\", total_match)"
   ]
  }
 ],
 "metadata": {
  "kernelspec": {
   "display_name": "Python 3 (ipykernel)",
   "language": "python",
   "name": "python3"
  },
  "language_info": {
   "codemirror_mode": {
    "name": "ipython",
    "version": 3
   },
   "file_extension": ".py",
   "mimetype": "text/x-python",
   "name": "python",
   "nbconvert_exporter": "python",
   "pygments_lexer": "ipython3",
   "version": "3.9.7"
  }
 },
 "nbformat": 4,
 "nbformat_minor": 5
}
