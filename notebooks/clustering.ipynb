{
 "cells": [
  {
   "cell_type": "code",
   "execution_count": 1,
   "id": "1bf41c57",
   "metadata": {},
   "outputs": [
    {
     "name": "stdout",
     "output_type": "stream",
     "text": [
      "Requirement already satisfied: sklearn in c:\\users\\nvatu\\anaconda3\\lib\\site-packages (0.0)\n",
      "Requirement already satisfied: fuzzy-c-means in c:\\users\\nvatu\\anaconda3\\lib\\site-packages (1.6.4)\n",
      "Requirement already satisfied: scikit-learn in c:\\users\\nvatu\\anaconda3\\lib\\site-packages (from sklearn) (1.0.1)\n",
      "Requirement already satisfied: pydantic<2.0.0,>=1.9.0 in c:\\users\\nvatu\\anaconda3\\lib\\site-packages (from fuzzy-c-means) (1.9.0)\n",
      "Requirement already satisfied: tabulate<0.9.0,>=0.8.9 in c:\\users\\nvatu\\anaconda3\\lib\\site-packages (from fuzzy-c-means) (0.8.9)\n",
      "Requirement already satisfied: numpy<2.0.0,>=1.21.1 in c:\\users\\nvatu\\anaconda3\\lib\\site-packages (from fuzzy-c-means) (1.21.4)\n",
      "Requirement already satisfied: typer<0.5.0,>=0.4.0 in c:\\users\\nvatu\\anaconda3\\lib\\site-packages (from fuzzy-c-means) (0.4.1)\n",
      "Requirement already satisfied: typing-extensions>=3.7.4.3 in c:\\users\\nvatu\\anaconda3\\lib\\site-packages (from pydantic<2.0.0,>=1.9.0->fuzzy-c-means) (4.2.0)\n",
      "Requirement already satisfied: click<9.0.0,>=7.1.1 in c:\\users\\nvatu\\anaconda3\\lib\\site-packages (from typer<0.5.0,>=0.4.0->fuzzy-c-means) (8.0.3)\n",
      "Requirement already satisfied: threadpoolctl>=2.0.0 in c:\\users\\nvatu\\anaconda3\\lib\\site-packages (from scikit-learn->sklearn) (3.0.0)\n",
      "Requirement already satisfied: scipy>=1.1.0 in c:\\users\\nvatu\\anaconda3\\lib\\site-packages (from scikit-learn->sklearn) (1.7.2)\n",
      "Requirement already satisfied: joblib>=0.11 in c:\\users\\nvatu\\anaconda3\\lib\\site-packages (from scikit-learn->sklearn) (1.1.0)\n",
      "Requirement already satisfied: colorama in c:\\users\\nvatu\\anaconda3\\lib\\site-packages (from click<9.0.0,>=7.1.1->typer<0.5.0,>=0.4.0->fuzzy-c-means) (0.4.4)\n"
     ]
    },
    {
     "name": "stderr",
     "output_type": "stream",
     "text": [
      "WARNING: You are using pip version 22.0.4; however, version 22.1.2 is available.\n",
      "You should consider upgrading via the 'C:\\Users\\nvatu\\anaconda3\\python.exe -m pip install --upgrade pip' command.\n"
     ]
    }
   ],
   "source": [
    "# cài đặt thư viện cần thiết\n",
    "!pip install sklearn fuzzy-c-means"
   ]
  },
  {
   "cell_type": "code",
   "execution_count": 2,
   "id": "59ff43ce",
   "metadata": {},
   "outputs": [],
   "source": [
    "# load thư viện cần thiết\n",
    "\n",
    "import pandas as pd\n",
    "import numpy as np\n",
    "import matplotlib.pyplot as plt\n",
    "from sklearn.cluster import KMeans\n",
    "from sklearn.metrics import silhouette_score\n",
    "from fcmeans import FCM\n",
    "import pickle"
   ]
  },
  {
   "cell_type": "code",
   "execution_count": 3,
   "id": "0fab556f",
   "metadata": {},
   "outputs": [],
   "source": [
    "# random state\n",
    "rs = 12"
   ]
  },
  {
   "cell_type": "code",
   "execution_count": 4,
   "id": "e20e8992",
   "metadata": {},
   "outputs": [
    {
     "data": {
      "text/html": [
       "<div>\n",
       "<style scoped>\n",
       "    .dataframe tbody tr th:only-of-type {\n",
       "        vertical-align: middle;\n",
       "    }\n",
       "\n",
       "    .dataframe tbody tr th {\n",
       "        vertical-align: top;\n",
       "    }\n",
       "\n",
       "    .dataframe thead th {\n",
       "        text-align: right;\n",
       "    }\n",
       "</style>\n",
       "<table border=\"1\" class=\"dataframe\">\n",
       "  <thead>\n",
       "    <tr style=\"text-align: right;\">\n",
       "      <th></th>\n",
       "      <th>User number</th>\n",
       "      <th>Recency</th>\n",
       "      <th>Frequency</th>\n",
       "      <th>Moneytary</th>\n",
       "    </tr>\n",
       "  </thead>\n",
       "  <tbody>\n",
       "    <tr>\n",
       "      <th>0</th>\n",
       "      <td>101000281</td>\n",
       "      <td>0.161538</td>\n",
       "      <td>0.010256</td>\n",
       "      <td>0.208800</td>\n",
       "    </tr>\n",
       "    <tr>\n",
       "      <th>1</th>\n",
       "      <td>101000282</td>\n",
       "      <td>0.623077</td>\n",
       "      <td>0.002564</td>\n",
       "      <td>0.007971</td>\n",
       "    </tr>\n",
       "    <tr>\n",
       "      <th>2</th>\n",
       "      <td>101000283</td>\n",
       "      <td>0.184615</td>\n",
       "      <td>0.007692</td>\n",
       "      <td>0.015943</td>\n",
       "    </tr>\n",
       "    <tr>\n",
       "      <th>3</th>\n",
       "      <td>101000320</td>\n",
       "      <td>0.269231</td>\n",
       "      <td>0.000000</td>\n",
       "      <td>0.023914</td>\n",
       "    </tr>\n",
       "    <tr>\n",
       "      <th>4</th>\n",
       "      <td>101000325</td>\n",
       "      <td>0.200000</td>\n",
       "      <td>0.000000</td>\n",
       "      <td>0.040000</td>\n",
       "    </tr>\n",
       "    <tr>\n",
       "      <th>...</th>\n",
       "      <td>...</td>\n",
       "      <td>...</td>\n",
       "      <td>...</td>\n",
       "      <td>...</td>\n",
       "    </tr>\n",
       "    <tr>\n",
       "      <th>8938</th>\n",
       "      <td>106000005</td>\n",
       "      <td>0.053846</td>\n",
       "      <td>0.000000</td>\n",
       "      <td>0.003986</td>\n",
       "    </tr>\n",
       "    <tr>\n",
       "      <th>8939</th>\n",
       "      <td>106000011</td>\n",
       "      <td>0.038462</td>\n",
       "      <td>0.000000</td>\n",
       "      <td>0.003986</td>\n",
       "    </tr>\n",
       "    <tr>\n",
       "      <th>8940</th>\n",
       "      <td>106000012</td>\n",
       "      <td>0.038462</td>\n",
       "      <td>0.000000</td>\n",
       "      <td>0.003986</td>\n",
       "    </tr>\n",
       "    <tr>\n",
       "      <th>8941</th>\n",
       "      <td>106000013</td>\n",
       "      <td>0.030769</td>\n",
       "      <td>0.000000</td>\n",
       "      <td>0.003986</td>\n",
       "    </tr>\n",
       "    <tr>\n",
       "      <th>8942</th>\n",
       "      <td>106000017</td>\n",
       "      <td>0.000000</td>\n",
       "      <td>0.000000</td>\n",
       "      <td>0.040000</td>\n",
       "    </tr>\n",
       "  </tbody>\n",
       "</table>\n",
       "<p>8943 rows × 4 columns</p>\n",
       "</div>"
      ],
      "text/plain": [
       "      User number   Recency  Frequency  Moneytary\n",
       "0       101000281  0.161538   0.010256   0.208800\n",
       "1       101000282  0.623077   0.002564   0.007971\n",
       "2       101000283  0.184615   0.007692   0.015943\n",
       "3       101000320  0.269231   0.000000   0.023914\n",
       "4       101000325  0.200000   0.000000   0.040000\n",
       "...           ...       ...        ...        ...\n",
       "8938    106000005  0.053846   0.000000   0.003986\n",
       "8939    106000011  0.038462   0.000000   0.003986\n",
       "8940    106000012  0.038462   0.000000   0.003986\n",
       "8941    106000013  0.030769   0.000000   0.003986\n",
       "8942    106000017  0.000000   0.000000   0.040000\n",
       "\n",
       "[8943 rows x 4 columns]"
      ]
     },
     "execution_count": 4,
     "metadata": {},
     "output_type": "execute_result"
    }
   ],
   "source": [
    "# đọc dữ liệu\n",
    "df = pd.read_csv('../data/rfm_data.csv')\n",
    "df"
   ]
  },
  {
   "cell_type": "code",
   "execution_count": 5,
   "id": "fba6f6e5",
   "metadata": {},
   "outputs": [
    {
     "data": {
      "text/html": [
       "<div>\n",
       "<style scoped>\n",
       "    .dataframe tbody tr th:only-of-type {\n",
       "        vertical-align: middle;\n",
       "    }\n",
       "\n",
       "    .dataframe tbody tr th {\n",
       "        vertical-align: top;\n",
       "    }\n",
       "\n",
       "    .dataframe thead th {\n",
       "        text-align: right;\n",
       "    }\n",
       "</style>\n",
       "<table border=\"1\" class=\"dataframe\">\n",
       "  <thead>\n",
       "    <tr style=\"text-align: right;\">\n",
       "      <th></th>\n",
       "      <th>variable</th>\n",
       "      <th>weight</th>\n",
       "    </tr>\n",
       "  </thead>\n",
       "  <tbody>\n",
       "    <tr>\n",
       "      <th>0</th>\n",
       "      <td>Recency</td>\n",
       "      <td>0.137</td>\n",
       "    </tr>\n",
       "    <tr>\n",
       "      <th>1</th>\n",
       "      <td>Frequency</td>\n",
       "      <td>0.328</td>\n",
       "    </tr>\n",
       "    <tr>\n",
       "      <th>2</th>\n",
       "      <td>Moneytary</td>\n",
       "      <td>0.535</td>\n",
       "    </tr>\n",
       "  </tbody>\n",
       "</table>\n",
       "</div>"
      ],
      "text/plain": [
       "    variable  weight\n",
       "0    Recency   0.137\n",
       "1  Frequency   0.328\n",
       "2  Moneytary   0.535"
      ]
     },
     "execution_count": 5,
     "metadata": {},
     "output_type": "execute_result"
    }
   ],
   "source": [
    "# load trọng số lên\n",
    "rfm_weight = pd.read_csv('../data/rfm_weight.csv')\n",
    "rfm_weight"
   ]
  },
  {
   "cell_type": "code",
   "execution_count": 6,
   "id": "0f9d6113",
   "metadata": {},
   "outputs": [
    {
     "data": {
      "text/plain": [
       "{'Recency': 0.137, 'Frequency': 0.328, 'Moneytary': 0.535}"
      ]
     },
     "execution_count": 6,
     "metadata": {},
     "output_type": "execute_result"
    }
   ],
   "source": [
    "# lấy trọng số ra\n",
    "w = rfm_weight.set_index('variable').to_dict()['weight']\n",
    "w"
   ]
  },
  {
   "cell_type": "code",
   "execution_count": 7,
   "id": "963e638d",
   "metadata": {
    "scrolled": true
   },
   "outputs": [],
   "source": [
    "# nhân trọng số vào mỗi cột\n",
    "df.iloc[:, 1:] = df.iloc[:, 1:].apply(lambda x: x * w[x.name])"
   ]
  },
  {
   "cell_type": "code",
   "execution_count": 8,
   "id": "a7892c4c",
   "metadata": {},
   "outputs": [
    {
     "data": {
      "text/html": [
       "<div>\n",
       "<style scoped>\n",
       "    .dataframe tbody tr th:only-of-type {\n",
       "        vertical-align: middle;\n",
       "    }\n",
       "\n",
       "    .dataframe tbody tr th {\n",
       "        vertical-align: top;\n",
       "    }\n",
       "\n",
       "    .dataframe thead th {\n",
       "        text-align: right;\n",
       "    }\n",
       "</style>\n",
       "<table border=\"1\" class=\"dataframe\">\n",
       "  <thead>\n",
       "    <tr style=\"text-align: right;\">\n",
       "      <th></th>\n",
       "      <th>User number</th>\n",
       "      <th>Recency</th>\n",
       "      <th>Frequency</th>\n",
       "      <th>Moneytary</th>\n",
       "    </tr>\n",
       "  </thead>\n",
       "  <tbody>\n",
       "    <tr>\n",
       "      <th>0</th>\n",
       "      <td>101000281</td>\n",
       "      <td>0.022131</td>\n",
       "      <td>0.003364</td>\n",
       "      <td>0.111708</td>\n",
       "    </tr>\n",
       "    <tr>\n",
       "      <th>1</th>\n",
       "      <td>101000282</td>\n",
       "      <td>0.085362</td>\n",
       "      <td>0.000841</td>\n",
       "      <td>0.004265</td>\n",
       "    </tr>\n",
       "    <tr>\n",
       "      <th>2</th>\n",
       "      <td>101000283</td>\n",
       "      <td>0.025292</td>\n",
       "      <td>0.002523</td>\n",
       "      <td>0.008529</td>\n",
       "    </tr>\n",
       "    <tr>\n",
       "      <th>3</th>\n",
       "      <td>101000320</td>\n",
       "      <td>0.036885</td>\n",
       "      <td>0.000000</td>\n",
       "      <td>0.012794</td>\n",
       "    </tr>\n",
       "    <tr>\n",
       "      <th>4</th>\n",
       "      <td>101000325</td>\n",
       "      <td>0.027400</td>\n",
       "      <td>0.000000</td>\n",
       "      <td>0.021400</td>\n",
       "    </tr>\n",
       "    <tr>\n",
       "      <th>...</th>\n",
       "      <td>...</td>\n",
       "      <td>...</td>\n",
       "      <td>...</td>\n",
       "      <td>...</td>\n",
       "    </tr>\n",
       "    <tr>\n",
       "      <th>8938</th>\n",
       "      <td>106000005</td>\n",
       "      <td>0.007377</td>\n",
       "      <td>0.000000</td>\n",
       "      <td>0.002132</td>\n",
       "    </tr>\n",
       "    <tr>\n",
       "      <th>8939</th>\n",
       "      <td>106000011</td>\n",
       "      <td>0.005269</td>\n",
       "      <td>0.000000</td>\n",
       "      <td>0.002132</td>\n",
       "    </tr>\n",
       "    <tr>\n",
       "      <th>8940</th>\n",
       "      <td>106000012</td>\n",
       "      <td>0.005269</td>\n",
       "      <td>0.000000</td>\n",
       "      <td>0.002132</td>\n",
       "    </tr>\n",
       "    <tr>\n",
       "      <th>8941</th>\n",
       "      <td>106000013</td>\n",
       "      <td>0.004215</td>\n",
       "      <td>0.000000</td>\n",
       "      <td>0.002132</td>\n",
       "    </tr>\n",
       "    <tr>\n",
       "      <th>8942</th>\n",
       "      <td>106000017</td>\n",
       "      <td>0.000000</td>\n",
       "      <td>0.000000</td>\n",
       "      <td>0.021400</td>\n",
       "    </tr>\n",
       "  </tbody>\n",
       "</table>\n",
       "<p>8943 rows × 4 columns</p>\n",
       "</div>"
      ],
      "text/plain": [
       "      User number   Recency  Frequency  Moneytary\n",
       "0       101000281  0.022131   0.003364   0.111708\n",
       "1       101000282  0.085362   0.000841   0.004265\n",
       "2       101000283  0.025292   0.002523   0.008529\n",
       "3       101000320  0.036885   0.000000   0.012794\n",
       "4       101000325  0.027400   0.000000   0.021400\n",
       "...           ...       ...        ...        ...\n",
       "8938    106000005  0.007377   0.000000   0.002132\n",
       "8939    106000011  0.005269   0.000000   0.002132\n",
       "8940    106000012  0.005269   0.000000   0.002132\n",
       "8941    106000013  0.004215   0.000000   0.002132\n",
       "8942    106000017  0.000000   0.000000   0.021400\n",
       "\n",
       "[8943 rows x 4 columns]"
      ]
     },
     "execution_count": 8,
     "metadata": {},
     "output_type": "execute_result"
    }
   ],
   "source": [
    "df"
   ]
  },
  {
   "cell_type": "markdown",
   "id": "df553038",
   "metadata": {},
   "source": [
    "## Chuẩn bị dữ liệu"
   ]
  },
  {
   "cell_type": "code",
   "execution_count": 9,
   "id": "5a83d0fa",
   "metadata": {},
   "outputs": [
    {
     "data": {
      "text/plain": [
       "(array([101000281, 101000282, 101000283, ..., 106000012, 106000013,\n",
       "        106000017], dtype=int64),\n",
       " array([[0.02213077, 0.0033641 , 0.111708  ],\n",
       "        [0.08536154, 0.00084103, 0.00426471],\n",
       "        [0.02529231, 0.00252308, 0.00852943],\n",
       "        ...,\n",
       "        [0.00526923, 0.        , 0.00213236],\n",
       "        [0.00421538, 0.        , 0.00213236],\n",
       "        [0.        , 0.        , 0.0214    ]]))"
      ]
     },
     "execution_count": 9,
     "metadata": {},
     "output_type": "execute_result"
    }
   ],
   "source": [
    "cust_id = df.iloc[:, 0].values\n",
    "X = df.iloc[:, 1:].values\n",
    "cust_id, X"
   ]
  },
  {
   "cell_type": "markdown",
   "id": "ea3fdf57",
   "metadata": {},
   "source": [
    "# Phân cụm"
   ]
  },
  {
   "cell_type": "markdown",
   "id": "c32821b4",
   "metadata": {},
   "source": [
    "## KMeans"
   ]
  },
  {
   "cell_type": "code",
   "execution_count": 10,
   "id": "8b607732",
   "metadata": {},
   "outputs": [
    {
     "data": {
      "text/plain": [
       "array([2, 3, 4, 5, 6, 7, 8, 9])"
      ]
     },
     "execution_count": 10,
     "metadata": {},
     "output_type": "execute_result"
    }
   ],
   "source": [
    "# dùng thang đo silhouette để chọn số cụm\n",
    "# để số cụm từ 3 -> 10\n",
    "\n",
    "range_k = np.arange(2, 10)\n",
    "range_k"
   ]
  },
  {
   "cell_type": "code",
   "execution_count": 11,
   "id": "24b48f01",
   "metadata": {},
   "outputs": [],
   "source": [
    "def make_kmean(k: int):\n",
    "    model = KMeans(n_clusters=k, random_state=rs)\n",
    "    model.fit(X)\n",
    "    cluster_labels = model.predict(X)\n",
    "    sil_score = silhouette_score(X, cluster_labels)\n",
    "    print(f\"K: {k} done\")\n",
    "    return dict(\n",
    "        k=k,\n",
    "        cluster_labels=cluster_labels,\n",
    "        sil_score=sil_score\n",
    "    )"
   ]
  },
  {
   "cell_type": "code",
   "execution_count": 12,
   "id": "8b3f5d81",
   "metadata": {},
   "outputs": [
    {
     "name": "stdout",
     "output_type": "stream",
     "text": [
      "K: 2 done\n",
      "K: 3 done\n",
      "K: 4 done\n",
      "K: 5 done\n",
      "K: 6 done\n",
      "K: 7 done\n",
      "K: 8 done\n",
      "K: 9 done\n"
     ]
    }
   ],
   "source": [
    "kmean_final_cluster = [make_kmean(k) for k in range_k]"
   ]
  },
  {
   "cell_type": "code",
   "execution_count": 13,
   "id": "386446f1-41af-4194-8559-eead181e8690",
   "metadata": {},
   "outputs": [
    {
     "data": {
      "image/png": "[encoded data removed]",
      "text/plain": [
       "<Figure size 432x288 with 1 Axes>"
      ]
     },
     "metadata": {
      "needs_background": "light"
     },
     "output_type": "display_data"
    }
   ],
   "source": [
    "sil_scores = np.array([i['sil_score'] for i in kmean_final_cluster])\n",
    "\n",
    "plt.plot(range_k, sil_scores)\n",
    "plt.scatter(range_k, sil_scores)\n",
    "plt.xlabel('Number of clusters')\n",
    "plt.ylabel('Silhouette score')\n",
    "plt.savefig('Kmean sil plot.png')\n",
    "plt.show()"
   ]
  },
  {
   "cell_type": "code",
   "execution_count": 14,
   "id": "1f4ee77d",
   "metadata": {},
   "outputs": [],
   "source": [
    "# sắp xếp các mô hình KMean theo chỉ số sihouette (từ cao xuống thấp)\n",
    "sorted_kmean_final_cluster = sorted(kmean_final_cluster, key=lambda x: x['sil_score'], reverse=True)"
   ]
  },
  {
   "cell_type": "code",
   "execution_count": 15,
   "id": "3eefb8a6",
   "metadata": {},
   "outputs": [
    {
     "data": {
      "text/plain": [
       "[{'k': 3,\n",
       "  'cluster_labels': array([2, 1, 0, ..., 0, 0, 0]),\n",
       "  'sil_score': 0.6181359981021375},\n",
       " {'k': 2,\n",
       "  'cluster_labels': array([0, 1, 0, ..., 0, 0, 0]),\n",
       "  'sil_score': 0.5784631317095966},\n",
       " {'k': 5,\n",
       "  'cluster_labels': array([4, 3, 0, ..., 0, 0, 0]),\n",
       "  'sil_score': 0.5569057215833989},\n",
       " {'k': 4,\n",
       "  'cluster_labels': array([2, 3, 0, ..., 0, 0, 0]),\n",
       "  'sil_score': 0.5521189824373747},\n",
       " {'k': 7,\n",
       "  'cluster_labels': array([4, 1, 0, ..., 0, 0, 0]),\n",
       "  'sil_score': 0.49035701976734564},\n",
       " {'k': 6,\n",
       "  'cluster_labels': array([0, 5, 3, ..., 3, 3, 3]),\n",
       "  'sil_score': 0.486858400762372},\n",
       " {'k': 8,\n",
       "  'cluster_labels': array([3, 1, 0, ..., 6, 6, 6]),\n",
       "  'sil_score': 0.45521090934801123},\n",
       " {'k': 9,\n",
       "  'cluster_labels': array([5, 6, 1, ..., 1, 1, 1]),\n",
       "  'sil_score': 0.45430303127450483}]"
      ]
     },
     "execution_count": 15,
     "metadata": {},
     "output_type": "execute_result"
    }
   ],
   "source": [
    "sorted_kmean_final_cluster"
   ]
  },
  {
   "cell_type": "code",
   "execution_count": 16,
   "id": "c6b258e5",
   "metadata": {},
   "outputs": [
    {
     "name": "stdout",
     "output_type": "stream",
     "text": [
      "Số cụm tốt nhất cho KMeans là 3 với giá trị sihouette: 0.6181359981021375\n"
     ]
    }
   ],
   "source": [
    "# lấy mô hình có giá trị sihouette tốt nhất\n",
    "\n",
    "best_k_kmean = sorted_kmean_final_cluster[0]['k']\n",
    "kmean_cluster_labels = sorted_kmean_final_cluster[0]['cluster_labels']\n",
    "kmean_sil_score = sorted_kmean_final_cluster[0]['sil_score']\n",
    "print(f'Số cụm tốt nhất cho KMeans là {best_k_kmean} với giá trị sihouette: {kmean_sil_score}')"
   ]
  },
  {
   "cell_type": "code",
   "execution_count": 17,
   "id": "6310fdb6-130b-4008-92f6-dd5af268a7af",
   "metadata": {},
   "outputs": [
    {
     "name": "stdout",
     "output_type": "stream",
     "text": [
      "Chạy lại model với K = 3 cho K Means\n"
     ]
    },
    {
     "data": {
      "text/plain": [
       "KMeans(n_clusters=3, random_state=12)"
      ]
     },
     "execution_count": 17,
     "metadata": {},
     "output_type": "execute_result"
    }
   ],
   "source": [
    "# chạy lại model\n",
    "print(f\"Chạy lại model với K = {best_k_kmean} cho K Means\")\n",
    "kmean_model = KMeans(n_clusters=best_k_kmean, random_state=rs)\n",
    "kmean_model.fit(X)"
   ]
  },
  {
   "cell_type": "code",
   "execution_count": 18,
   "id": "cc4c5fa5-829c-4572-8912-e45cc9909ac4",
   "metadata": {},
   "outputs": [],
   "source": [
    "# Lưu lại mô hình\n",
    "with open('../data/kmean_model.pkl', 'wb') as f:\n",
    "    pickle.dump(kmean_model, f, pickle.HIGHEST_PROTOCOL)"
   ]
  },
  {
   "cell_type": "code",
   "execution_count": 19,
   "id": "caf96e44",
   "metadata": {
    "scrolled": true
   },
   "outputs": [],
   "source": [
    "kmean_cluster_df = pd.DataFrame(\n",
    "    {'User number': cust_id, 'Cluster Label': kmean_cluster_labels}\n",
    ")\n",
    "df_merged_kmean = df.merge(kmean_cluster_df, on='User number')\n",
    "df_merged_kmean.to_csv('../data/cluster_kmeans.csv', index=False)"
   ]
  },
  {
   "cell_type": "code",
   "execution_count": 20,
   "id": "8b3d1e2f-48e4-41a0-8ef8-27abc3cd8a9e",
   "metadata": {},
   "outputs": [
    {
     "name": "stdout",
     "output_type": "stream",
     "text": [
      "Trung bình giá trị trên mỗi cụm của KMeans\n"
     ]
    },
    {
     "data": {
      "text/html": [
       "<div>\n",
       "<style scoped>\n",
       "    .dataframe tbody tr th:only-of-type {\n",
       "        vertical-align: middle;\n",
       "    }\n",
       "\n",
       "    .dataframe tbody tr th {\n",
       "        vertical-align: top;\n",
       "    }\n",
       "\n",
       "    .dataframe thead th {\n",
       "        text-align: right;\n",
       "    }\n",
       "</style>\n",
       "<table border=\"1\" class=\"dataframe\">\n",
       "  <thead>\n",
       "    <tr style=\"text-align: right;\">\n",
       "      <th></th>\n",
       "      <th>Recency</th>\n",
       "      <th>Frequency</th>\n",
       "      <th>Moneytary</th>\n",
       "    </tr>\n",
       "    <tr>\n",
       "      <th>Cluster Label</th>\n",
       "      <th></th>\n",
       "      <th></th>\n",
       "      <th></th>\n",
       "    </tr>\n",
       "  </thead>\n",
       "  <tbody>\n",
       "    <tr>\n",
       "      <th>0</th>\n",
       "      <td>0.029525</td>\n",
       "      <td>0.001074</td>\n",
       "      <td>0.008370</td>\n",
       "    </tr>\n",
       "    <tr>\n",
       "      <th>1</th>\n",
       "      <td>0.100743</td>\n",
       "      <td>0.000246</td>\n",
       "      <td>0.008219</td>\n",
       "    </tr>\n",
       "    <tr>\n",
       "      <th>2</th>\n",
       "      <td>0.047626</td>\n",
       "      <td>0.009916</td>\n",
       "      <td>0.157928</td>\n",
       "    </tr>\n",
       "  </tbody>\n",
       "</table>\n",
       "</div>"
      ],
      "text/plain": [
       "                Recency  Frequency  Moneytary\n",
       "Cluster Label                                \n",
       "0              0.029525   0.001074   0.008370\n",
       "1              0.100743   0.000246   0.008219\n",
       "2              0.047626   0.009916   0.157928"
      ]
     },
     "execution_count": 20,
     "metadata": {},
     "output_type": "execute_result"
    }
   ],
   "source": [
    "print(\"Trung bình giá trị trên mỗi cụm của KMeans\")\n",
    "df_merged_kmean.groupby('Cluster Label').mean().iloc[:, 1:]"
   ]
  },
  {
   "cell_type": "code",
   "execution_count": 21,
   "id": "aa46bbe2-6144-4463-ba09-78d68b34845c",
   "metadata": {},
   "outputs": [
    {
     "name": "stdout",
     "output_type": "stream",
     "text": [
      "Số lượng khách hàng mỗi cụm\n"
     ]
    },
    {
     "data": {
      "text/html": [
       "<div>\n",
       "<style scoped>\n",
       "    .dataframe tbody tr th:only-of-type {\n",
       "        vertical-align: middle;\n",
       "    }\n",
       "\n",
       "    .dataframe tbody tr th {\n",
       "        vertical-align: top;\n",
       "    }\n",
       "\n",
       "    .dataframe thead th {\n",
       "        text-align: right;\n",
       "    }\n",
       "</style>\n",
       "<table border=\"1\" class=\"dataframe\">\n",
       "  <thead>\n",
       "    <tr style=\"text-align: right;\">\n",
       "      <th></th>\n",
       "      <th>User number</th>\n",
       "    </tr>\n",
       "    <tr>\n",
       "      <th>Cluster Label</th>\n",
       "      <th></th>\n",
       "    </tr>\n",
       "  </thead>\n",
       "  <tbody>\n",
       "    <tr>\n",
       "      <th>0</th>\n",
       "      <td>5011</td>\n",
       "    </tr>\n",
       "    <tr>\n",
       "      <th>1</th>\n",
       "      <td>3693</td>\n",
       "    </tr>\n",
       "    <tr>\n",
       "      <th>2</th>\n",
       "      <td>239</td>\n",
       "    </tr>\n",
       "  </tbody>\n",
       "</table>\n",
       "</div>"
      ],
      "text/plain": [
       "               User number\n",
       "Cluster Label             \n",
       "0                     5011\n",
       "1                     3693\n",
       "2                      239"
      ]
     },
     "execution_count": 21,
     "metadata": {},
     "output_type": "execute_result"
    }
   ],
   "source": [
    "print(\"Số lượng khách hàng mỗi cụm\")\n",
    "kmean_cluster_df.groupby('Cluster Label').count()"
   ]
  },
  {
   "cell_type": "markdown",
   "id": "02ab7239",
   "metadata": {},
   "source": [
    "### Fuzzy C-Mean"
   ]
  },
  {
   "cell_type": "code",
   "execution_count": 22,
   "id": "aecb727b",
   "metadata": {},
   "outputs": [],
   "source": [
    "def make_fuzzycmean(k: int):\n",
    "    model = FCM(n_clusters=k, random_state=rs)\n",
    "    model.fit(X)\n",
    "    cluster_labels = model.predict(X)\n",
    "    sil_score = silhouette_score(X, cluster_labels)\n",
    "    print(f\"K: {k} done\")\n",
    "    return dict(\n",
    "        k=k,\n",
    "        cluster_labels=cluster_labels,\n",
    "        sil_score=sil_score\n",
    "    )"
   ]
  },
  {
   "cell_type": "code",
   "execution_count": 23,
   "id": "30cac275",
   "metadata": {},
   "outputs": [
    {
     "name": "stdout",
     "output_type": "stream",
     "text": [
      "K: 2 done\n",
      "K: 3 done\n",
      "K: 4 done\n",
      "K: 5 done\n",
      "K: 6 done\n",
      "K: 7 done\n",
      "K: 8 done\n",
      "K: 9 done\n"
     ]
    }
   ],
   "source": [
    "fuzzycmean_final_cluster = [make_fuzzycmean(k) for k in range_k]"
   ]
  },
  {
   "cell_type": "code",
   "execution_count": 24,
   "id": "33b79adb-4670-4929-9877-fd2f7f28c696",
   "metadata": {},
   "outputs": [
    {
     "data": {
      "image/png": "[encoded data removed]",
      "text/plain": [
       "<Figure size 432x288 with 1 Axes>"
      ]
     },
     "metadata": {
      "needs_background": "light"
     },
     "output_type": "display_data"
    }
   ],
   "source": [
    "sil_scores = np.array([i['sil_score'] for i in fuzzycmean_final_cluster])\n",
    "\n",
    "plt.plot(range_k, sil_scores)\n",
    "plt.scatter(range_k, sil_scores)\n",
    "plt.xlabel('Number of clusters')\n",
    "plt.ylabel('Silhouette score')\n",
    "plt.savefig('Fuzzy C-Mean sil plot.png')\n",
    "plt.show()"
   ]
  },
  {
   "cell_type": "code",
   "execution_count": 25,
   "id": "657e8dd3",
   "metadata": {},
   "outputs": [],
   "source": [
    "# sắp xếp các mô hình Fuzzy C Mean theo chỉ số sihouette (từ cao xuống thấp)\n",
    "sorted_fuzzycmean_final_cluster = sorted(fuzzycmean_final_cluster, key=lambda x: x['sil_score'], reverse=True)"
   ]
  },
  {
   "cell_type": "code",
   "execution_count": 26,
   "id": "d8c99f3d",
   "metadata": {},
   "outputs": [
    {
     "data": {
      "text/plain": [
       "[{'k': 2,\n",
       "  'cluster_labels': array([0, 1, 0, ..., 0, 0, 0], dtype=int64),\n",
       "  'sil_score': 0.5789777789768532},\n",
       " {'k': 3,\n",
       "  'cluster_labels': array([1, 2, 1, ..., 1, 1, 1], dtype=int64),\n",
       "  'sil_score': 0.4938707780267614},\n",
       " {'k': 4,\n",
       "  'cluster_labels': array([2, 3, 2, ..., 2, 2, 2], dtype=int64),\n",
       "  'sil_score': 0.4181322240879449},\n",
       " {'k': 5,\n",
       "  'cluster_labels': array([1, 0, 4, ..., 1, 1, 1], dtype=int64),\n",
       "  'sil_score': 0.3645713327878833},\n",
       " {'k': 6,\n",
       "  'cluster_labels': array([1, 5, 3, ..., 1, 1, 1], dtype=int64),\n",
       "  'sil_score': 0.3381861051777119},\n",
       " {'k': 9,\n",
       "  'cluster_labels': array([8, 4, 5, ..., 1, 1, 1], dtype=int64),\n",
       "  'sil_score': 0.30669995577382436},\n",
       " {'k': 8,\n",
       "  'cluster_labels': array([3, 0, 1, ..., 3, 3, 3], dtype=int64),\n",
       "  'sil_score': 0.2939248378497759},\n",
       " {'k': 7,\n",
       "  'cluster_labels': array([6, 1, 2, ..., 6, 6, 6], dtype=int64),\n",
       "  'sil_score': 0.2910190116229502}]"
      ]
     },
     "execution_count": 26,
     "metadata": {},
     "output_type": "execute_result"
    }
   ],
   "source": [
    "sorted_fuzzycmean_final_cluster"
   ]
  },
  {
   "cell_type": "code",
   "execution_count": 27,
   "id": "76e8e5b1",
   "metadata": {},
   "outputs": [
    {
     "name": "stdout",
     "output_type": "stream",
     "text": [
      "Số cụm tốt nhất cho KMeans là 2 với giá trị sihouette: 0.5789777789768532\n"
     ]
    }
   ],
   "source": [
    "# lấy mô hình có giá trị sihouette tốt nhất\n",
    "\n",
    "best_k_fuzzycmean = sorted_fuzzycmean_final_cluster[0]['k']\n",
    "fuzzycmean_cluster_labels = sorted_fuzzycmean_final_cluster[0]['cluster_labels']\n",
    "fuzzycmean_sil_score = sorted_fuzzycmean_final_cluster[0]['sil_score']\n",
    "print(f'Số cụm tốt nhất cho KMeans là {best_k_fuzzycmean} với giá trị sihouette: {fuzzycmean_sil_score}')"
   ]
  },
  {
   "cell_type": "code",
   "execution_count": 28,
   "id": "f041c994-9a78-422f-810d-c17fe68db2af",
   "metadata": {},
   "outputs": [
    {
     "name": "stdout",
     "output_type": "stream",
     "text": [
      "Chạy lại model với K = 2 cho Fuzzy C-Mean\n"
     ]
    }
   ],
   "source": [
    "# chạy lại model\n",
    "print(f\"Chạy lại model với K = {best_k_fuzzycmean} cho Fuzzy C-Mean\")\n",
    "fcm_model = FCM(n_clusters=best_k_fuzzycmean, random_state=rs)\n",
    "fcm_model.fit(X)"
   ]
  },
  {
   "cell_type": "code",
   "execution_count": 29,
   "id": "1a21ff65-7dbb-45a7-89ed-2e4132d97c80",
   "metadata": {},
   "outputs": [],
   "source": [
    "# Lưu lại mô hình\n",
    "with open('../data/fuzzycmean_model.pkl', 'wb') as f:\n",
    "    pickle.dump(fcm_model, f, pickle.HIGHEST_PROTOCOL)"
   ]
  },
  {
   "cell_type": "code",
   "execution_count": 30,
   "id": "b7b9a030",
   "metadata": {},
   "outputs": [],
   "source": [
    "fuzzycmean_cluster_df = pd.DataFrame(\n",
    "    {'User number': cust_id, 'Cluster Label': fuzzycmean_cluster_labels}\n",
    ")\n",
    "df_merged_fuzzy = df.merge(fuzzycmean_cluster_df, on='User number')\n",
    "df_merged_fuzzy.to_csv('../data/cluster_fuzzycmean.csv', index=False)"
   ]
  },
  {
   "cell_type": "code",
   "execution_count": 31,
   "id": "9e824207-ecee-42cf-bb2b-70d4d359fd48",
   "metadata": {},
   "outputs": [
    {
     "name": "stdout",
     "output_type": "stream",
     "text": [
      "Trung bình giá trị trên mỗi cụm của Fuzzy C-Mean\n"
     ]
    },
    {
     "data": {
      "text/html": [
       "<div>\n",
       "<style scoped>\n",
       "    .dataframe tbody tr th:only-of-type {\n",
       "        vertical-align: middle;\n",
       "    }\n",
       "\n",
       "    .dataframe tbody tr th {\n",
       "        vertical-align: top;\n",
       "    }\n",
       "\n",
       "    .dataframe thead th {\n",
       "        text-align: right;\n",
       "    }\n",
       "</style>\n",
       "<table border=\"1\" class=\"dataframe\">\n",
       "  <thead>\n",
       "    <tr style=\"text-align: right;\">\n",
       "      <th></th>\n",
       "      <th>Recency</th>\n",
       "      <th>Frequency</th>\n",
       "      <th>Moneytary</th>\n",
       "    </tr>\n",
       "    <tr>\n",
       "      <th>Cluster Label</th>\n",
       "      <th></th>\n",
       "      <th></th>\n",
       "      <th></th>\n",
       "    </tr>\n",
       "  </thead>\n",
       "  <tbody>\n",
       "    <tr>\n",
       "      <th>0</th>\n",
       "      <td>0.029398</td>\n",
       "      <td>0.001485</td>\n",
       "      <td>0.013089</td>\n",
       "    </tr>\n",
       "    <tr>\n",
       "      <th>1</th>\n",
       "      <td>0.100648</td>\n",
       "      <td>0.000259</td>\n",
       "      <td>0.011228</td>\n",
       "    </tr>\n",
       "  </tbody>\n",
       "</table>\n",
       "</div>"
      ],
      "text/plain": [
       "                Recency  Frequency  Moneytary\n",
       "Cluster Label                                \n",
       "0              0.029398   0.001485   0.013089\n",
       "1              0.100648   0.000259   0.011228"
      ]
     },
     "execution_count": 31,
     "metadata": {},
     "output_type": "execute_result"
    }
   ],
   "source": [
    "print(\"Trung bình giá trị trên mỗi cụm của Fuzzy C-Mean\")\n",
    "df_merged_fuzzy.groupby('Cluster Label').mean().iloc[:, 1:]"
   ]
  },
  {
   "cell_type": "code",
   "execution_count": 32,
   "id": "fbeb9764-d963-490d-8a57-8c550649ae6c",
   "metadata": {},
   "outputs": [
    {
     "name": "stdout",
     "output_type": "stream",
     "text": [
      "Số lượng khách hàng mỗi cụm\n"
     ]
    },
    {
     "data": {
      "text/html": [
       "<div>\n",
       "<style scoped>\n",
       "    .dataframe tbody tr th:only-of-type {\n",
       "        vertical-align: middle;\n",
       "    }\n",
       "\n",
       "    .dataframe tbody tr th {\n",
       "        vertical-align: top;\n",
       "    }\n",
       "\n",
       "    .dataframe thead th {\n",
       "        text-align: right;\n",
       "    }\n",
       "</style>\n",
       "<table border=\"1\" class=\"dataframe\">\n",
       "  <thead>\n",
       "    <tr style=\"text-align: right;\">\n",
       "      <th></th>\n",
       "      <th>User number</th>\n",
       "    </tr>\n",
       "    <tr>\n",
       "      <th>Cluster Label</th>\n",
       "      <th></th>\n",
       "    </tr>\n",
       "  </thead>\n",
       "  <tbody>\n",
       "    <tr>\n",
       "      <th>0</th>\n",
       "      <td>5175</td>\n",
       "    </tr>\n",
       "    <tr>\n",
       "      <th>1</th>\n",
       "      <td>3768</td>\n",
       "    </tr>\n",
       "  </tbody>\n",
       "</table>\n",
       "</div>"
      ],
      "text/plain": [
       "               User number\n",
       "Cluster Label             \n",
       "0                     5175\n",
       "1                     3768"
      ]
     },
     "execution_count": 32,
     "metadata": {},
     "output_type": "execute_result"
    }
   ],
   "source": [
    "print(\"Số lượng khách hàng mỗi cụm\")\n",
    "fuzzycmean_cluster_df.groupby('Cluster Label').count()"
   ]
  }
 ],
 "metadata": {
  "kernelspec": {
   "display_name": "Python 3 (ipykernel)",
   "language": "python",
   "name": "python3"
  },
  "language_info": {
   "codemirror_mode": {
    "name": "ipython",
    "version": 3
   },
   "file_extension": ".py",
   "mimetype": "text/x-python",
   "name": "python",
   "nbconvert_exporter": "python",
   "pygments_lexer": "ipython3",
   "version": "3.9.7"
  }
 },
 "nbformat": 4,
 "nbformat_minor": 5
}
