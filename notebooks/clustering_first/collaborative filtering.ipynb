{
 "cells": [
  {
   "cell_type": "markdown",
   "id": "ee3df298-e2f5-448f-af94-1ab1432de99f",
   "metadata": {},
   "source": [
    "- Nhận user mới\n",
    "- Tạo RFM cho user đó (toàn cục)\n",
    "- Phân cụm user đó\n",
    "- Tạo RFM cho user đó trên các item của user\n",
    "- Tạo user-item matrix cho từng cụm\n",
    "- Đi gợi ý sản phẩm cho user đó\n",
    "- Tính F1 score"
   ]
  },
  {
   "cell_type": "code",
   "execution_count": 1,
   "id": "89560176-e24e-47a6-b58d-fc781c64fdc4",
   "metadata": {},
   "outputs": [],
   "source": [
    "import pandas as pd\n",
    "import numpy as np\n",
    "import datetime as dt\n",
    "import pickle\n",
    "from scipy.stats import pearsonr\n",
    "from sklearn.preprocessing import MinMaxScaler\n",
    "from scipy.sparse import coo_matrix\n",
    "from collections import defaultdict\n",
    "from sklearn.neighbors import NearestNeighbors\n",
    "import concurrent.futures as cfutures\n",
    "import matplotlib.pyplot as plt"
   ]
  },
  {
   "cell_type": "code",
   "execution_count": 2,
   "id": "73d32e6a-d732-4069-891b-38c2667f42a0",
   "metadata": {},
   "outputs": [
    {
     "data": {
      "text/html": [
       "<div>\n",
       "<style scoped>\n",
       "    .dataframe tbody tr th:only-of-type {\n",
       "        vertical-align: middle;\n",
       "    }\n",
       "\n",
       "    .dataframe tbody tr th {\n",
       "        vertical-align: top;\n",
       "    }\n",
       "\n",
       "    .dataframe thead th {\n",
       "        text-align: right;\n",
       "    }\n",
       "</style>\n",
       "<table border=\"1\" class=\"dataframe\">\n",
       "  <thead>\n",
       "    <tr style=\"text-align: right;\">\n",
       "      <th></th>\n",
       "      <th>Cluster 0</th>\n",
       "      <th>Cluster 1</th>\n",
       "      <th>Cluster 2</th>\n",
       "    </tr>\n",
       "  </thead>\n",
       "  <tbody>\n",
       "    <tr>\n",
       "      <th>R</th>\n",
       "      <td>0.163</td>\n",
       "      <td>0.732</td>\n",
       "      <td>0.142</td>\n",
       "    </tr>\n",
       "    <tr>\n",
       "      <th>F</th>\n",
       "      <td>0.236</td>\n",
       "      <td>0.165</td>\n",
       "      <td>0.397</td>\n",
       "    </tr>\n",
       "    <tr>\n",
       "      <th>M</th>\n",
       "      <td>0.601</td>\n",
       "      <td>0.103</td>\n",
       "      <td>0.461</td>\n",
       "    </tr>\n",
       "  </tbody>\n",
       "</table>\n",
       "</div>"
      ],
      "text/plain": [
       "   Cluster 0  Cluster 1  Cluster 2\n",
       "R      0.163      0.732      0.142\n",
       "F      0.236      0.165      0.397\n",
       "M      0.601      0.103      0.461"
      ]
     },
     "execution_count": 2,
     "metadata": {},
     "output_type": "execute_result"
    }
   ],
   "source": [
    "weight_matrix = pd.read_csv('../../data/weight_matrix.csv', index_col=0)\n",
    "weight_matrix"
   ]
  },
  {
   "cell_type": "code",
   "execution_count": 3,
   "id": "da676591-a9c3-4ae8-bebf-2f21f4a018dd",
   "metadata": {},
   "outputs": [],
   "source": [
    "def get_weights(label: int):\n",
    "    '''\n",
    "        input: nhận label của cụm\n",
    "        output: series chứa weights của cụm\n",
    "    '''\n",
    "    label = int(label)\n",
    "    return weight_matrix[f'Cluster {label}'].values"
   ]
  },
  {
   "cell_type": "code",
   "execution_count": 4,
   "id": "ceed54fc-9a4f-40e8-b4b7-43e69315e393",
   "metadata": {},
   "outputs": [
    {
     "data": {
      "text/plain": [
       "KMeans(n_clusters=3, random_state=12)"
      ]
     },
     "execution_count": 4,
     "metadata": {},
     "output_type": "execute_result"
    }
   ],
   "source": [
    "# load mô hình kmean (hoặc fuzzy c mean) đã lưu\n",
    "with open('../../data/kmean_model.pkl', 'rb') as f:\n",
    "    kmean_model = pickle.load(f)\n",
    "kmean_model"
   ]
  },
  {
   "cell_type": "code",
   "execution_count": 5,
   "id": "3f4b4703-e176-4cb1-a4de-369c173f26b2",
   "metadata": {},
   "outputs": [],
   "source": [
    "# nhận train data\n",
    "train = pd.read_csv('../../data/train_processed.csv', parse_dates=[0])\n",
    "rfm_train = pd.read_csv('../../data/rfm_train.csv')\n",
    "# nhận test data\n",
    "test = pd.read_csv('../../data/test_processed.csv', parse_dates=[0])\n",
    "rfm_test = pd.read_csv('../../data/rfm_test.csv')"
   ]
  },
  {
   "cell_type": "markdown",
   "id": "58d3bd16-f343-48eb-83b2-d1857d7cc2b3",
   "metadata": {},
   "source": [
    "# Tạo RFM data (user-item)"
   ]
  },
  {
   "cell_type": "code",
   "execution_count": 6,
   "id": "f9ad4ae8-bfbe-44fd-84a1-0095cac92276",
   "metadata": {},
   "outputs": [],
   "source": [
    "recency_unit = 1\n",
    "snapshot_date = dt.datetime(year=2022, month=12, day=31)\n",
    "\n",
    "def get_recency(d):\n",
    "    return (snapshot_date - d.max()).days // recency_unit\n",
    "\n",
    "# recency: lấy ngày snapshot - ngày mua cuối\n",
    "# frequency: tổng quantity\n",
    "# monetary: average số tiền mua\n",
    "\n",
    "scaler = MinMaxScaler()\n",
    "\n",
    "def get_rfm_data(dataframe, is_train):\n",
    "    dataframe = (dataframe\n",
    "            .groupby(['User number', 'Product Name'])\n",
    "            .agg({'DateKey': get_recency, 'Quantity': 'count', 'Regular price': 'sum'})\n",
    "    )\n",
    "    user_id = dataframe.index\n",
    "    rfm = dataframe.values\n",
    "    rfm = scaler.fit_transform(rfm)\n",
    "    return pd.DataFrame(rfm, index=user_id, columns=['Recency', 'Frequency', 'Moneytary'])"
   ]
  },
  {
   "cell_type": "code",
   "execution_count": 7,
   "id": "a998de7b-4df3-4da1-b418-d8f3b15911c2",
   "metadata": {},
   "outputs": [],
   "source": [
    "# ui: user item\n",
    "rfm_train_ui = get_rfm_data(train, True).reset_index()\n",
    "rfm_test_ui = get_rfm_data(test, False).reset_index()"
   ]
  },
  {
   "cell_type": "code",
   "execution_count": 8,
   "id": "37b504c6-16ff-477b-9ce9-a4c52f0e4b50",
   "metadata": {},
   "outputs": [
    {
     "ename": "KeyError",
     "evalue": "'Column not found: Cluster Label'",
     "output_type": "error",
     "traceback": [
      "\u001b[1;31m---------------------------------------------------------------------------\u001b[0m",
      "\u001b[1;31mKeyError\u001b[0m                                  Traceback (most recent call last)",
      "\u001b[1;32m~\\AppData\\Local\\Temp/ipykernel_5204/2860274108.py\u001b[0m in \u001b[0;36m<module>\u001b[1;34m\u001b[0m\n\u001b[0;32m      1\u001b[0m \u001b[1;31m# tạo mapping giữa user number và cluster label\u001b[0m\u001b[1;33m\u001b[0m\u001b[1;33m\u001b[0m\u001b[0m\n\u001b[1;32m----> 2\u001b[1;33m \u001b[0mtrain_cluster_label\u001b[0m \u001b[1;33m=\u001b[0m \u001b[0mdict\u001b[0m\u001b[1;33m(\u001b[0m\u001b[0mrfm_train\u001b[0m\u001b[1;33m.\u001b[0m\u001b[0mgroupby\u001b[0m\u001b[1;33m(\u001b[0m\u001b[1;34m'User number'\u001b[0m\u001b[1;33m)\u001b[0m\u001b[1;33m[\u001b[0m\u001b[1;34m'Cluster Label'\u001b[0m\u001b[1;33m]\u001b[0m\u001b[1;33m.\u001b[0m\u001b[0mmean\u001b[0m\u001b[1;33m(\u001b[0m\u001b[1;33m)\u001b[0m\u001b[1;33m.\u001b[0m\u001b[0mastype\u001b[0m\u001b[1;33m(\u001b[0m\u001b[1;34m'int'\u001b[0m\u001b[1;33m)\u001b[0m\u001b[1;33m)\u001b[0m\u001b[1;33m\u001b[0m\u001b[1;33m\u001b[0m\u001b[0m\n\u001b[0m\u001b[0;32m      3\u001b[0m \u001b[0mtest_cluster_label\u001b[0m \u001b[1;33m=\u001b[0m \u001b[0mdict\u001b[0m\u001b[1;33m(\u001b[0m\u001b[0mrfm_test\u001b[0m\u001b[1;33m.\u001b[0m\u001b[0mgroupby\u001b[0m\u001b[1;33m(\u001b[0m\u001b[1;34m'User number'\u001b[0m\u001b[1;33m)\u001b[0m\u001b[1;33m[\u001b[0m\u001b[1;34m'Cluster Label'\u001b[0m\u001b[1;33m]\u001b[0m\u001b[1;33m.\u001b[0m\u001b[0mmean\u001b[0m\u001b[1;33m(\u001b[0m\u001b[1;33m)\u001b[0m\u001b[1;33m.\u001b[0m\u001b[0mastype\u001b[0m\u001b[1;33m(\u001b[0m\u001b[1;34m'int'\u001b[0m\u001b[1;33m)\u001b[0m\u001b[1;33m)\u001b[0m\u001b[1;33m\u001b[0m\u001b[1;33m\u001b[0m\u001b[0m\n",
      "\u001b[1;32m~\\anaconda3\\lib\\site-packages\\pandas\\core\\groupby\\generic.py\u001b[0m in \u001b[0;36m__getitem__\u001b[1;34m(self, key)\u001b[0m\n\u001b[0;32m   1536\u001b[0m                 \u001b[0mstacklevel\u001b[0m\u001b[1;33m=\u001b[0m\u001b[1;36m2\u001b[0m\u001b[1;33m,\u001b[0m\u001b[1;33m\u001b[0m\u001b[1;33m\u001b[0m\u001b[0m\n\u001b[0;32m   1537\u001b[0m             )\n\u001b[1;32m-> 1538\u001b[1;33m         \u001b[1;32mreturn\u001b[0m \u001b[0msuper\u001b[0m\u001b[1;33m(\u001b[0m\u001b[1;33m)\u001b[0m\u001b[1;33m.\u001b[0m\u001b[0m__getitem__\u001b[0m\u001b[1;33m(\u001b[0m\u001b[0mkey\u001b[0m\u001b[1;33m)\u001b[0m\u001b[1;33m\u001b[0m\u001b[1;33m\u001b[0m\u001b[0m\n\u001b[0m\u001b[0;32m   1539\u001b[0m \u001b[1;33m\u001b[0m\u001b[0m\n\u001b[0;32m   1540\u001b[0m     \u001b[1;32mdef\u001b[0m \u001b[0m_gotitem\u001b[0m\u001b[1;33m(\u001b[0m\u001b[0mself\u001b[0m\u001b[1;33m,\u001b[0m \u001b[0mkey\u001b[0m\u001b[1;33m,\u001b[0m \u001b[0mndim\u001b[0m\u001b[1;33m:\u001b[0m \u001b[0mint\u001b[0m\u001b[1;33m,\u001b[0m \u001b[0msubset\u001b[0m\u001b[1;33m=\u001b[0m\u001b[1;32mNone\u001b[0m\u001b[1;33m)\u001b[0m\u001b[1;33m:\u001b[0m\u001b[1;33m\u001b[0m\u001b[1;33m\u001b[0m\u001b[0m\n",
      "\u001b[1;32m~\\anaconda3\\lib\\site-packages\\pandas\\core\\base.py\u001b[0m in \u001b[0;36m__getitem__\u001b[1;34m(self, key)\u001b[0m\n\u001b[0;32m    230\u001b[0m         \u001b[1;32melse\u001b[0m\u001b[1;33m:\u001b[0m\u001b[1;33m\u001b[0m\u001b[1;33m\u001b[0m\u001b[0m\n\u001b[0;32m    231\u001b[0m             \u001b[1;32mif\u001b[0m \u001b[0mkey\u001b[0m \u001b[1;32mnot\u001b[0m \u001b[1;32min\u001b[0m \u001b[0mself\u001b[0m\u001b[1;33m.\u001b[0m\u001b[0mobj\u001b[0m\u001b[1;33m:\u001b[0m\u001b[1;33m\u001b[0m\u001b[1;33m\u001b[0m\u001b[0m\n\u001b[1;32m--> 232\u001b[1;33m                 \u001b[1;32mraise\u001b[0m \u001b[0mKeyError\u001b[0m\u001b[1;33m(\u001b[0m\u001b[1;34mf\"Column not found: {key}\"\u001b[0m\u001b[1;33m)\u001b[0m\u001b[1;33m\u001b[0m\u001b[1;33m\u001b[0m\u001b[0m\n\u001b[0m\u001b[0;32m    233\u001b[0m             \u001b[0msubset\u001b[0m \u001b[1;33m=\u001b[0m \u001b[0mself\u001b[0m\u001b[1;33m.\u001b[0m\u001b[0mobj\u001b[0m\u001b[1;33m[\u001b[0m\u001b[0mkey\u001b[0m\u001b[1;33m]\u001b[0m\u001b[1;33m\u001b[0m\u001b[1;33m\u001b[0m\u001b[0m\n\u001b[0;32m    234\u001b[0m             \u001b[0mndim\u001b[0m \u001b[1;33m=\u001b[0m \u001b[0msubset\u001b[0m\u001b[1;33m.\u001b[0m\u001b[0mndim\u001b[0m\u001b[1;33m\u001b[0m\u001b[1;33m\u001b[0m\u001b[0m\n",
      "\u001b[1;31mKeyError\u001b[0m: 'Column not found: Cluster Label'"
     ]
    }
   ],
   "source": [
    "# tạo mapping giữa user number và cluster label\n",
    "train_cluster_label = dict(rfm_train.groupby('User number')['Cluster Label'].mean().astype('int'))\n",
    "test_cluster_label = dict(rfm_test.groupby('User number')['Cluster Label'].mean().astype('int'))"
   ]
  },
  {
   "cell_type": "code",
   "execution_count": null,
   "id": "12e8985a-f907-4861-83ed-0e36917967ce",
   "metadata": {},
   "outputs": [],
   "source": [
    "rfm_train_ui['Cluster Label'] = rfm_train_ui['User number'].map(train_cluster_label)\n",
    "rfm_test_ui['Cluster Label'] = rfm_test_ui['User number'].map(test_cluster_label)"
   ]
  },
  {
   "cell_type": "code",
   "execution_count": null,
   "id": "1c09a457-7152-4252-ac03-fce6d855d0e5",
   "metadata": {},
   "outputs": [],
   "source": [
    "# c = w_r * c_r + w_f * c_f + w_m * c_m\n",
    "list_weights_train = np.array([get_weights(label) for label in rfm_train_ui['Cluster Label']])\n",
    "rfm_train_ui['Rating'] = (rfm_train_ui.loc[:, ['Recency', 'Frequency', 'Moneytary']] * list_weights_train).sum(axis=1)\n",
    "\n",
    "list_weights_test = np.array([get_weights(label) for label in rfm_test_ui['Cluster Label']])\n",
    "rfm_test_ui['Rating'] = (rfm_test_ui.loc[:, ['Recency', 'Frequency', 'Moneytary']] * list_weights_test).sum(axis=1)"
   ]
  },
  {
   "cell_type": "code",
   "execution_count": null,
   "id": "b0c17f8f-e46f-4dda-9bde-0cc39a1512fd",
   "metadata": {},
   "outputs": [],
   "source": [
    "class CF:\n",
    "    def __init__(self, rfm, k = 5):\n",
    "        self.rfm = rfm\n",
    "        self.k = k\n",
    "        self.list_mae = []\n",
    "        self.cluster_label_dict = {}\n",
    "        self.make_ui(self.rfm)\n",
    "        \n",
    "    def add(self, rfm):\n",
    "        self.rfm = pd.concat([self.rfm, rfm])\n",
    "        self.make_ui(self.rfm)\n",
    "        \n",
    "    def make_ui(self, rfm):\n",
    "        self.items = rfm['Product Name'].unique()\n",
    "        self.size_item = self.items.shape[0]\n",
    "        self.item_id = np.arange(self.size_item)\n",
    "        self.map_item = dict(list(zip(self.items, self.item_id)))\n",
    "        \n",
    "        # tạo nơi chứa dữ liệu cho từng cụm\n",
    "        self.cluster_data = defaultdict(dict)\n",
    "        \n",
    "        # lặp qua tất cả cụm\n",
    "        for label in rfm['Cluster Label'].unique():\n",
    "            \n",
    "            # lấy data cho từng cụm\n",
    "            cluster_rfm = rfm[rfm['Cluster Label'] == label]\n",
    "            \n",
    "            # lấy danh sách user duy nhất\n",
    "            users = cluster_rfm['User number'].unique()\n",
    "            \n",
    "            users_dict = {user: label for user in users}\n",
    "            self.cluster_label_dict.update(users_dict)\n",
    "            \n",
    "            # tạo biến lưu kích cỡ user\n",
    "            size_user = users.shape[0]\n",
    "            \n",
    "            # tạo index cho user\n",
    "            user_id = np.arange(size_user)\n",
    "            \n",
    "            # tạo một ánh xạ giữa user và index\n",
    "            map_user = dict(list(zip(users, user_id)))\n",
    "            \n",
    "            # lấy danh sách index của user và item\n",
    "            user_indices = cluster_rfm['User number'].map(map_user)\n",
    "            item_indices = cluster_rfm['Product Name'].map(self.map_item)\n",
    "            \n",
    "            ui_matrix = coo_matrix(\n",
    "                (cluster_rfm.Rating, (user_indices, item_indices)),\n",
    "                shape=(size_user, self.size_item)\n",
    "            ).tocsr().toarray()\n",
    "            \n",
    "            # pearson correlation\n",
    "            sim = pd.DataFrame(ui_matrix).T.corr().values\n",
    "            \n",
    "            self.cluster_data[label]['rfm'] = cluster_rfm\n",
    "            self.cluster_data[label]['user_id'] = user_id\n",
    "            self.cluster_data[label]['map_user'] = map_user\n",
    "            self.cluster_data[label]['ui_matrix'] = ui_matrix\n",
    "            self.cluster_data[label]['sim'] = sim\n",
    "    \n",
    "    def recommend(self, user_number):\n",
    "        '''\n",
    "            nhận vào một user number từ tập dữ liệu test\n",
    "            sau đó trả về danh sách những sản phẩm được khuyến nghị\n",
    "        '''\n",
    "        # tìm cụm mà user đó thuộc về\n",
    "        cluster_label = self.cluster_label_dict[user_number]\n",
    "                \n",
    "        cluster_data = self.cluster_data[cluster_label]\n",
    "        rfm_data = cluster_data['rfm']\n",
    "        map_user = cluster_data['map_user']\n",
    "        user_item = cluster_data['ui_matrix']\n",
    "        similarity_matrix = cluster_data['sim']\n",
    "        \n",
    "        # tìm index của user theo id\n",
    "        user_idx = map_user[user_number]\n",
    "\n",
    "        list_product_recommendation = []\n",
    "        # lặp qua tất cả sản phẩm hiện có\n",
    "        for product_name, product_idx in self.map_item.items():\n",
    "            bought = False\n",
    "\n",
    "            # tìm tất cả user đã mua sản phẩm đó\n",
    "            user_rated_product = rfm_data.query(f'`Product Name` == \"{product_name}\"')['User number'].values\n",
    "            user_rated_product = np.array([map_user[i] for i in user_rated_product])\n",
    "\n",
    "            if user_idx in user_rated_product:\n",
    "                bought = True\n",
    "            \n",
    "            # khi user chưa mua thì phải \n",
    "            # tính rating dự đoán\n",
    "            if user_rated_product.shape[0] > 0: \n",
    "                # tìm các hệ số tương quan giữa user mong muốn và tất cả user đã rate\n",
    "                \n",
    "                sim = similarity_matrix[user_idx, user_rated_product]\n",
    "                k_sim = np.argsort(sim)[-self.k:] # chỉ lấy k user tương tự user hiện tại\n",
    "                # phần k-nearest neighbors\n",
    "\n",
    "                sim = sim[k_sim]\n",
    "                user_rated_product = user_rated_product[k_sim]\n",
    "\n",
    "                # sim = sim[sim < 1] # loại bỏ giá trị có tương quan là 1, vì nó tương quan với chính nó\n",
    "                rating = user_item[user_rated_product, product_idx] # lấy list rating của những user đã rate\n",
    "\n",
    "                mean_rating = user_item[user_rated_product].mean(axis=1)\n",
    "\n",
    "                # tính hệ số rating dự đoán, tổng trọng số giữa rating và độ tương quan\n",
    "                r = user_item[user_idx].mean() + (sim * (rating - mean_rating)).sum() / (sim.sum() + 1e-8)\n",
    "            else: # chưa có ai mua sản phẩm này trong cùng một cụm cả\n",
    "                r = 0\n",
    "            \n",
    "            if bought:\n",
    "                # chỉ tính mae trên những rating có sẵn\n",
    "                pred_value = r\n",
    "                true_value = user_item[user_idx, product_idx]\n",
    "                self.list_mae = [abs(pred_value - true_value)]\n",
    "\n",
    "            # đưa vào tuple (product id, rating, bought, is recommend) -> tí nữa sắp xếp giảm dần\n",
    "            list_product_recommendation.append((product_name, r, bought, r > 0))\n",
    "\n",
    "        # sắp xếp giảm dần theo rating dự đoán\n",
    "        list_product_recommendation = sorted(list_product_recommendation, key=lambda x: x[1], reverse=True)\n",
    "        \n",
    "        return list_product_recommendation, cluster_label\n",
    "\n",
    "    \n",
    "    def cal_mae(self, list_user_number):\n",
    "        self.list_mae = []\n",
    "        with cfutures.ThreadPoolExecutor() as exe:\n",
    "            exe.map(self.recommend, list_user_number)\n",
    "        mae = np.array(self.list_mae)\n",
    "        return mae.sum() / mae.shape[0]\n",
    "        \n",
    "    def __repr__(self):\n",
    "        return '<CF>'.format(self)"
   ]
  },
  {
   "cell_type": "markdown",
   "id": "cf4f3bdb-1ea7-4434-828e-dd206f73cc6e",
   "metadata": {},
   "source": [
    "# Find best K for Collaborative Filtering"
   ]
  },
  {
   "cell_type": "code",
   "execution_count": null,
   "id": "a4b3b1f1-a592-4d6b-aa42-7303b5387a06",
   "metadata": {},
   "outputs": [],
   "source": [
    "list_test_user = test['User number'].unique().tolist()"
   ]
  },
  {
   "cell_type": "code",
   "execution_count": null,
   "id": "93903135-ad0f-43cd-b2dc-376348c623eb",
   "metadata": {},
   "outputs": [],
   "source": [
    "%%time\n",
    "\n",
    "list_k = [20, 30, 50, 60]\n",
    "list_mae = []\n",
    "\n",
    "random_100_user = np.random.choice(list_test_user, size=100)\n",
    "\n",
    "for k in list_k:\n",
    "    cf = CF(rfm_train_ui, k=k)\n",
    "    cf.add(rfm_test_ui)\n",
    "    mae = cf.cal_mae(random_100_user)\n",
    "    list_mae.append(mae)\n",
    "    print(k, mae)"
   ]
  },
  {
   "cell_type": "code",
   "execution_count": null,
   "id": "44da787b-9509-4ee8-bea7-59f794ec840e",
   "metadata": {},
   "outputs": [],
   "source": [
    "fig, ax = plt.subplots()\n",
    "ax.plot(list_k, list_mae)\n",
    "ax.scatter(list_k, list_mae)\n",
    "ax.grid(True, alpha=.25, ls='-.')\n",
    "ax.set_ylabel(\"Mean Absolute Error\")\n",
    "ax.set_xlabel(\"K\")\n",
    "ax.set_title(\"Randomly pick 100 user to calculate MAE for picking k\")\n",
    "fig.tight_layout()\n",
    "plt.savefig('picking_k.jpg')\n",
    "plt.show()"
   ]
  },
  {
   "cell_type": "code",
   "execution_count": null,
   "id": "3e8a36dd",
   "metadata": {},
   "outputs": [],
   "source": [
    "best_k = list_k[np.argmin(list_mae)]\n",
    "best_k"
   ]
  },
  {
   "cell_type": "code",
   "execution_count": null,
   "id": "c5e1b471",
   "metadata": {},
   "outputs": [],
   "source": [
    "%%time\n",
    "\n",
    "# khởi tạo đối tượng CF (collaborative filtering)\n",
    "# với bộ dữ liệu train\n",
    "cf = CF(rfm_train_ui, k=best_k)\n",
    "\n",
    "# thêm tập dữ liệu test vào để chuẩn bị test\n",
    "cf.add(rfm_test_ui)"
   ]
  },
  {
   "cell_type": "code",
   "execution_count": null,
   "id": "b21b1909-dc61-48e9-b0de-019d4cdef0a3",
   "metadata": {},
   "outputs": [],
   "source": [
    "ui_matrix = cf.cluster_data[0]['ui_matrix']\n",
    "map_user = cf.cluster_data[0]['map_user']\n",
    "\n",
    "\n",
    "items = list(cf.map_item.keys())\n",
    "users = list(map_user.keys())\n",
    "pd.DataFrame(ui_matrix, columns=items, index=users).replace(0, np.nan).to_csv('user_item.csv')"
   ]
  },
  {
   "cell_type": "code",
   "execution_count": null,
   "id": "cf5e9ab2-6cba-4a6f-9bbb-e8dd85e942d2",
   "metadata": {},
   "outputs": [],
   "source": [
    "def cal_confusion_matrix(out):\n",
    "    data = pd.DataFrame(out, columns=['name', 'rating', 'bought', 'recommended'])\n",
    "    tp = data.query('bought == 1 and recommended == 1').shape[0]\n",
    "    fp = data.query('bought == 0 and recommended == 1').shape[0]\n",
    "    fn = data.query('bought == 1 and recommended == 0').shape[0]\n",
    "    tn = data.query('bought == 0 and recommended == 0').shape[0]\n",
    "    return tp, fp, fn, tn"
   ]
  },
  {
   "cell_type": "markdown",
   "id": "ee69cf5e-0c85-4857-bd6d-2f3f11082ba3",
   "metadata": {},
   "source": [
    "# Calculate F1 Score"
   ]
  },
  {
   "cell_type": "code",
   "execution_count": null,
   "id": "47f33ee8-30d7-4de5-b11b-65c069249bb4",
   "metadata": {
    "tags": []
   },
   "outputs": [],
   "source": [
    "%%time\n",
    "\n",
    "def cal(user):\n",
    "    out, cluster_label = cf.recommend(user)\n",
    "    return cluster_label, cal_confusion_matrix(out)\n",
    "\n",
    "with cfutures.ThreadPoolExecutor() as exe:\n",
    "    list_confusion_matrix = list(exe.map(cal, list_test_user))"
   ]
  },
  {
   "cell_type": "code",
   "execution_count": null,
   "id": "722048c2-4941-4764-a2a5-be830d410c72",
   "metadata": {},
   "outputs": [],
   "source": [
    "# cộng tất cả tn, fp, fn, tn của tất cả user với nhau\n",
    "metrics = defaultdict(lambda : defaultdict(int))\n",
    "for cluster_label, (_tp, _fp, _fn, _tn) in list_confusion_matrix:\n",
    "    metrics[cluster_label]['tp'] += _tp\n",
    "    metrics[cluster_label]['fp'] += _fp\n",
    "    metrics[cluster_label]['fn'] += _fn\n",
    "    metrics[cluster_label]['tn'] += _tn"
   ]
  },
  {
   "cell_type": "code",
   "execution_count": null,
   "id": "12a7ea0c-52c2-4933-b297-a26348138f38",
   "metadata": {},
   "outputs": [],
   "source": [
    "metrics"
   ]
  },
  {
   "cell_type": "code",
   "execution_count": null,
   "id": "efc3b5c2-435d-43df-a364-a1d9355f729b",
   "metadata": {},
   "outputs": [],
   "source": [
    "for label, data in metrics.items():\n",
    "    precision = data['tp'] / (data['tp'] + data['fp'])\n",
    "    recall = data['tp'] / (data['tp'] + data['fn'])\n",
    "    f1_score = (2 * precision * recall) / (precision + recall)\n",
    "    metrics[label]['precision'] = precision\n",
    "    metrics[label]['recall'] = recall\n",
    "    metrics[label]['f1_score'] = f1_score"
   ]
  },
  {
   "cell_type": "code",
   "execution_count": null,
   "id": "802643da-f10b-433d-b803-496e4c2fa786",
   "metadata": {},
   "outputs": [],
   "source": [
    "for label, data in metrics.items():\n",
    "    print(\"Label:\", label)\n",
    "    print(\"Precision:\", data['precision'])\n",
    "    print(\"Recall:\", data['recall'])\n",
    "    print(\"F1:\", data['f1_score'])\n",
    "    print(\"=\"*50)"
   ]
  },
  {
   "cell_type": "code",
   "execution_count": null,
   "id": "d6556ccf-c2ff-40ac-9f48-b66912e6cb3a",
   "metadata": {},
   "outputs": [],
   "source": [
    "def get_recommendation(user_number):\n",
    "    out, label = cf.recommend(user_number)\n",
    "    data = pd.DataFrame(out, columns=['name', 'rating', 'bought', 'recommended'])\n",
    "    return data"
   ]
  },
  {
   "cell_type": "code",
   "execution_count": null,
   "id": "2aa444ba-147b-4c82-a62e-e1e3d7195bf5",
   "metadata": {},
   "outputs": [],
   "source": [
    "%%time\n",
    "\n",
    "# chỗ này đưa ra danh sách dự đoán sản phẩm\n",
    "# cho một user number nào đó lấy từ tập test\n",
    "user_number = 101000391\n",
    "get_recommendation(user_number)"
   ]
  }
 ],
 "metadata": {
  "kernelspec": {
   "display_name": "Python 3 (ipykernel)",
   "language": "python",
   "name": "python3"
  },
  "language_info": {
   "codemirror_mode": {
    "name": "ipython",
    "version": 3
   },
   "file_extension": ".py",
   "mimetype": "text/x-python",
   "name": "python",
   "nbconvert_exporter": "python",
   "pygments_lexer": "ipython3",
   "version": "3.9.7"
  }
 },
 "nbformat": 4,
 "nbformat_minor": 5
}
