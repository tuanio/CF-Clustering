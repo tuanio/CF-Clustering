{
 "cells": [
  {
   "cell_type": "markdown",
   "id": "ee3df298-e2f5-448f-af94-1ab1432de99f",
   "metadata": {},
   "source": [
    "- Nhận user mới\n",
    "- Tạo RFM cho user đó (toàn cục)\n",
    "- Phân cụm user đó\n",
    "- Tạo RFM cho user đó trên các item của user\n",
    "- Tạo user-item matrix cho từng cụm\n",
    "- Đi gợi ý sản phẩm cho user đó\n",
    "- Tính F1 score"
   ]
  },
  {
   "cell_type": "code",
   "execution_count": 15,
   "id": "89560176-e24e-47a6-b58d-fc781c64fdc4",
   "metadata": {},
   "outputs": [],
   "source": [
    "import pandas as pd\n",
    "import numpy as np\n",
    "import datetime as dt\n",
    "import pickle\n",
    "from scipy.stats import pearsonr\n",
    "from sklearn.preprocessing import MinMaxScaler\n",
    "from scipy.sparse import coo_matrix\n",
    "from collections import defaultdict\n",
    "from sklearn.neighbors import NearestNeighbors\n",
    "import concurrent.futures as cfutures\n",
    "import matplotlib.pyplot as plt"
   ]
  },
  {
   "cell_type": "code",
   "execution_count": 16,
   "id": "73d32e6a-d732-4069-891b-38c2667f42a0",
   "metadata": {},
   "outputs": [
    {
     "data": {
      "text/html": [
       "<div>\n",
       "<style scoped>\n",
       "    .dataframe tbody tr th:only-of-type {\n",
       "        vertical-align: middle;\n",
       "    }\n",
       "\n",
       "    .dataframe tbody tr th {\n",
       "        vertical-align: top;\n",
       "    }\n",
       "\n",
       "    .dataframe thead th {\n",
       "        text-align: right;\n",
       "    }\n",
       "</style>\n",
       "<table border=\"1\" class=\"dataframe\">\n",
       "  <thead>\n",
       "    <tr style=\"text-align: right;\">\n",
       "      <th></th>\n",
       "      <th>Cluster 0</th>\n",
       "      <th>Cluster 1</th>\n",
       "      <th>Cluster 2</th>\n",
       "    </tr>\n",
       "  </thead>\n",
       "  <tbody>\n",
       "    <tr>\n",
       "      <th>R</th>\n",
       "      <td>0.163</td>\n",
       "      <td>0.732</td>\n",
       "      <td>0.142</td>\n",
       "    </tr>\n",
       "    <tr>\n",
       "      <th>F</th>\n",
       "      <td>0.236</td>\n",
       "      <td>0.165</td>\n",
       "      <td>0.397</td>\n",
       "    </tr>\n",
       "    <tr>\n",
       "      <th>M</th>\n",
       "      <td>0.601</td>\n",
       "      <td>0.103</td>\n",
       "      <td>0.461</td>\n",
       "    </tr>\n",
       "  </tbody>\n",
       "</table>\n",
       "</div>"
      ],
      "text/plain": [
       "   Cluster 0  Cluster 1  Cluster 2\n",
       "R      0.163      0.732      0.142\n",
       "F      0.236      0.165      0.397\n",
       "M      0.601      0.103      0.461"
      ]
     },
     "execution_count": 16,
     "metadata": {},
     "output_type": "execute_result"
    }
   ],
   "source": [
    "weight_matrix = pd.read_csv('../../data/weight_matrix.csv', index_col=0)\n",
    "weight_matrix"
   ]
  },
  {
   "cell_type": "code",
   "execution_count": 17,
   "id": "da676591-a9c3-4ae8-bebf-2f21f4a018dd",
   "metadata": {},
   "outputs": [],
   "source": [
    "def get_weights(label: int):\n",
    "    '''\n",
    "        input: nhận label của cụm\n",
    "        output: series chứa weights của cụm\n",
    "    '''\n",
    "    label = int(label)\n",
    "    return weight_matrix[f'Cluster {label}'].values"
   ]
  },
  {
   "cell_type": "code",
   "execution_count": 18,
   "id": "ceed54fc-9a4f-40e8-b4b7-43e69315e393",
   "metadata": {},
   "outputs": [
    {
     "data": {
      "text/plain": [
       "KMeans(n_clusters=3, random_state=12)"
      ]
     },
     "execution_count": 18,
     "metadata": {},
     "output_type": "execute_result"
    }
   ],
   "source": [
    "# load mô hình kmean (hoặc fuzzy c mean) đã lưu\n",
    "with open('../../data/kmean_model.pkl', 'rb') as f:\n",
    "    kmean_model = pickle.load(f)\n",
    "kmean_model"
   ]
  },
  {
   "cell_type": "code",
   "execution_count": 19,
   "id": "3f4b4703-e176-4cb1-a4de-369c173f26b2",
   "metadata": {},
   "outputs": [],
   "source": [
    "# nhận train data\n",
    "train = pd.read_csv('../../data/train_processed.csv', parse_dates=[0])\n",
    "rfm_train = pd.read_csv('../../data/rfm_train.csv')\n",
    "# nhận test data\n",
    "test = pd.read_csv('../../data/test_processed.csv', parse_dates=[0])\n",
    "rfm_test = pd.read_csv('../../data/rfm_test.csv')"
   ]
  },
  {
   "cell_type": "markdown",
   "id": "58d3bd16-f343-48eb-83b2-d1857d7cc2b3",
   "metadata": {},
   "source": [
    "# Tạo RFM data (user-item)"
   ]
  },
  {
   "cell_type": "code",
   "execution_count": 20,
   "id": "f9ad4ae8-bfbe-44fd-84a1-0095cac92276",
   "metadata": {},
   "outputs": [],
   "source": [
    "recency_unit = 1\n",
    "snapshot_date = dt.datetime(year=2022, month=12, day=31)\n",
    "\n",
    "def get_recency(d):\n",
    "    return (snapshot_date - d.max()).days // recency_unit\n",
    "\n",
    "# recency: lấy ngày snapshot - ngày mua cuối\n",
    "# frequency: tổng quantity\n",
    "# monetary: average số tiền mua\n",
    "\n",
    "scaler = MinMaxScaler()\n",
    "\n",
    "def get_rfm_data(dataframe, is_train):\n",
    "    dataframe = (dataframe\n",
    "            .groupby(['User number', 'Product Name'])\n",
    "            .agg({'DateKey': get_recency, 'Quantity': 'count', 'Regular price': 'sum'})\n",
    "    )\n",
    "    user_id = dataframe.index\n",
    "    rfm = dataframe.values\n",
    "    rfm = scaler.fit_transform(rfm)\n",
    "    return pd.DataFrame(rfm, index=user_id, columns=['Recency', 'Frequency', 'Moneytary'])"
   ]
  },
  {
   "cell_type": "code",
   "execution_count": 21,
   "id": "a998de7b-4df3-4da1-b418-d8f3b15911c2",
   "metadata": {},
   "outputs": [],
   "source": [
    "# ui: user item\n",
    "rfm_train_ui = get_rfm_data(train, True).reset_index()\n",
    "rfm_test_ui = get_rfm_data(test, False).reset_index()"
   ]
  },
  {
   "cell_type": "code",
   "execution_count": 22,
   "id": "37b504c6-16ff-477b-9ce9-a4c52f0e4b50",
   "metadata": {},
   "outputs": [],
   "source": [
    "# tạo mapping giữa user number và cluster label\n",
    "train_cluster_label = dict(rfm_train.groupby('User number')['Cluster Label'].mean().astype('int'))\n",
    "test_cluster_label = dict(rfm_test.groupby('User number')['Cluster Label'].mean().astype('int'))"
   ]
  },
  {
   "cell_type": "code",
   "execution_count": 23,
   "id": "12e8985a-f907-4861-83ed-0e36917967ce",
   "metadata": {},
   "outputs": [],
   "source": [
    "rfm_train_ui['Cluster Label'] = rfm_train_ui['User number'].map(train_cluster_label)\n",
    "rfm_test_ui['Cluster Label'] = rfm_test_ui['User number'].map(test_cluster_label)"
   ]
  },
  {
   "cell_type": "code",
   "execution_count": 24,
   "id": "1c09a457-7152-4252-ac03-fce6d855d0e5",
   "metadata": {},
   "outputs": [],
   "source": [
    "# c = w_r * c_r + w_f * c_f + w_m * c_m\n",
    "list_weights_train = np.array([get_weights(label) for label in rfm_train_ui['Cluster Label']])\n",
    "rfm_train_ui['Rating'] = (rfm_train_ui.loc[:, ['Recency', 'Frequency', 'Moneytary']] * list_weights_train).sum(axis=1)\n",
    "\n",
    "list_weights_test = np.array([get_weights(label) for label in rfm_test_ui['Cluster Label']])\n",
    "rfm_test_ui['Rating'] = (rfm_test_ui.loc[:, ['Recency', 'Frequency', 'Moneytary']] * list_weights_test).sum(axis=1)"
   ]
  },
  {
   "cell_type": "code",
   "execution_count": 25,
   "id": "d8a7e91d-59df-4e94-af0b-22c602cef9c6",
   "metadata": {},
   "outputs": [
    {
     "data": {
      "text/html": [
       "<div>\n",
       "<style scoped>\n",
       "    .dataframe tbody tr th:only-of-type {\n",
       "        vertical-align: middle;\n",
       "    }\n",
       "\n",
       "    .dataframe tbody tr th {\n",
       "        vertical-align: top;\n",
       "    }\n",
       "\n",
       "    .dataframe thead th {\n",
       "        text-align: right;\n",
       "    }\n",
       "</style>\n",
       "<table border=\"1\" class=\"dataframe\">\n",
       "  <thead>\n",
       "    <tr style=\"text-align: right;\">\n",
       "      <th></th>\n",
       "      <th>User number</th>\n",
       "      <th>Product Name</th>\n",
       "      <th>Recency</th>\n",
       "      <th>Frequency</th>\n",
       "      <th>Moneytary</th>\n",
       "      <th>Cluster Label</th>\n",
       "      <th>Rating</th>\n",
       "    </tr>\n",
       "  </thead>\n",
       "  <tbody>\n",
       "    <tr>\n",
       "      <th>0</th>\n",
       "      <td>101000281</td>\n",
       "      <td>Membership_1M</td>\n",
       "      <td>0.161538</td>\n",
       "      <td>0.028037</td>\n",
       "      <td>0.015943</td>\n",
       "      <td>2</td>\n",
       "      <td>0.041419</td>\n",
       "    </tr>\n",
       "    <tr>\n",
       "      <th>1</th>\n",
       "      <td>101000281</td>\n",
       "      <td>PT 30 session</td>\n",
       "      <td>0.584615</td>\n",
       "      <td>0.000000</td>\n",
       "      <td>0.192857</td>\n",
       "      <td>2</td>\n",
       "      <td>0.171923</td>\n",
       "    </tr>\n",
       "    <tr>\n",
       "      <th>2</th>\n",
       "      <td>101000670</td>\n",
       "      <td>Membership_6M</td>\n",
       "      <td>0.392308</td>\n",
       "      <td>0.000000</td>\n",
       "      <td>0.024286</td>\n",
       "      <td>2</td>\n",
       "      <td>0.066903</td>\n",
       "    </tr>\n",
       "    <tr>\n",
       "      <th>3</th>\n",
       "      <td>101000670</td>\n",
       "      <td>PT 30 session</td>\n",
       "      <td>0.300000</td>\n",
       "      <td>0.000000</td>\n",
       "      <td>0.192857</td>\n",
       "      <td>2</td>\n",
       "      <td>0.131507</td>\n",
       "    </tr>\n",
       "    <tr>\n",
       "      <th>4</th>\n",
       "      <td>101002703</td>\n",
       "      <td>Membership_1M</td>\n",
       "      <td>0.038462</td>\n",
       "      <td>0.028037</td>\n",
       "      <td>0.015943</td>\n",
       "      <td>2</td>\n",
       "      <td>0.023942</td>\n",
       "    </tr>\n",
       "    <tr>\n",
       "      <th>...</th>\n",
       "      <td>...</td>\n",
       "      <td>...</td>\n",
       "      <td>...</td>\n",
       "      <td>...</td>\n",
       "      <td>...</td>\n",
       "      <td>...</td>\n",
       "      <td>...</td>\n",
       "    </tr>\n",
       "    <tr>\n",
       "      <th>626</th>\n",
       "      <td>105002780</td>\n",
       "      <td>PT 50 session</td>\n",
       "      <td>0.069231</td>\n",
       "      <td>0.000000</td>\n",
       "      <td>0.285714</td>\n",
       "      <td>2</td>\n",
       "      <td>0.141545</td>\n",
       "    </tr>\n",
       "    <tr>\n",
       "      <th>627</th>\n",
       "      <td>105002784</td>\n",
       "      <td>Membership_6M</td>\n",
       "      <td>0.100000</td>\n",
       "      <td>0.000000</td>\n",
       "      <td>0.024286</td>\n",
       "      <td>2</td>\n",
       "      <td>0.025396</td>\n",
       "    </tr>\n",
       "    <tr>\n",
       "      <th>628</th>\n",
       "      <td>105002784</td>\n",
       "      <td>PT 30 session</td>\n",
       "      <td>0.076923</td>\n",
       "      <td>0.000000</td>\n",
       "      <td>0.192857</td>\n",
       "      <td>2</td>\n",
       "      <td>0.099830</td>\n",
       "    </tr>\n",
       "    <tr>\n",
       "      <th>629</th>\n",
       "      <td>105002844</td>\n",
       "      <td>Membership_6M</td>\n",
       "      <td>0.053846</td>\n",
       "      <td>0.000000</td>\n",
       "      <td>0.024286</td>\n",
       "      <td>2</td>\n",
       "      <td>0.018842</td>\n",
       "    </tr>\n",
       "    <tr>\n",
       "      <th>630</th>\n",
       "      <td>105002844</td>\n",
       "      <td>PT 30 session</td>\n",
       "      <td>0.053846</td>\n",
       "      <td>0.000000</td>\n",
       "      <td>0.192857</td>\n",
       "      <td>2</td>\n",
       "      <td>0.096553</td>\n",
       "    </tr>\n",
       "  </tbody>\n",
       "</table>\n",
       "<p>631 rows × 7 columns</p>\n",
       "</div>"
      ],
      "text/plain": [
       "     User number   Product Name   Recency  Frequency  Moneytary  \\\n",
       "0      101000281  Membership_1M  0.161538   0.028037   0.015943   \n",
       "1      101000281  PT 30 session  0.584615   0.000000   0.192857   \n",
       "2      101000670  Membership_6M  0.392308   0.000000   0.024286   \n",
       "3      101000670  PT 30 session  0.300000   0.000000   0.192857   \n",
       "4      101002703  Membership_1M  0.038462   0.028037   0.015943   \n",
       "..           ...            ...       ...        ...        ...   \n",
       "626    105002780  PT 50 session  0.069231   0.000000   0.285714   \n",
       "627    105002784  Membership_6M  0.100000   0.000000   0.024286   \n",
       "628    105002784  PT 30 session  0.076923   0.000000   0.192857   \n",
       "629    105002844  Membership_6M  0.053846   0.000000   0.024286   \n",
       "630    105002844  PT 30 session  0.053846   0.000000   0.192857   \n",
       "\n",
       "     Cluster Label    Rating  \n",
       "0                2  0.041419  \n",
       "1                2  0.171923  \n",
       "2                2  0.066903  \n",
       "3                2  0.131507  \n",
       "4                2  0.023942  \n",
       "..             ...       ...  \n",
       "626              2  0.141545  \n",
       "627              2  0.025396  \n",
       "628              2  0.099830  \n",
       "629              2  0.018842  \n",
       "630              2  0.096553  \n",
       "\n",
       "[631 rows x 7 columns]"
      ]
     },
     "execution_count": 25,
     "metadata": {},
     "output_type": "execute_result"
    }
   ],
   "source": [
    "rfm_test_ui"
   ]
  },
  {
   "cell_type": "markdown",
   "id": "ef9ce86e-3e37-4a89-a616-54731a1a51ce",
   "metadata": {},
   "source": [
    "# Revert moneytary"
   ]
  },
  {
   "cell_type": "code",
   "execution_count": 26,
   "id": "3f360567-0f20-4a11-897f-0a3f88bdd5a8",
   "metadata": {},
   "outputs": [
    {
     "data": {
      "text/plain": [
       "array([[295.84615385,  22.6728972 ,  70.55098571]])"
      ]
     },
     "execution_count": 26,
     "metadata": {},
     "output_type": "execute_result"
    }
   ],
   "source": [
    "sum_value = rfm_test_ui[['Recency', 'Frequency', 'Moneytary']].sum()\n",
    "sum_value = sum_value.values.reshape(1, -1)\n",
    "sum_value"
   ]
  },
  {
   "cell_type": "code",
   "execution_count": 27,
   "id": "04ef8c07-3c10-486f-a196-71a93ebd9c63",
   "metadata": {},
   "outputs": [
    {
     "data": {
      "text/plain": [
       "MinMaxScaler()"
      ]
     },
     "execution_count": 27,
     "metadata": {},
     "output_type": "execute_result"
    }
   ],
   "source": [
    "scaler = pickle.load(open('scaler.pkl', 'rb'))\n",
    "scaler"
   ]
  },
  {
   "cell_type": "code",
   "execution_count": 28,
   "id": "1deb4f4d-859d-49aa-a661-a53490b3c424",
   "metadata": {},
   "outputs": [
    {
     "name": "stdout",
     "output_type": "stream",
     "text": [
      "Sum test sale: 4938568999.999999\n"
     ]
    }
   ],
   "source": [
    "sum_sale = scaler.inverse_transform(sum_value)[0][-1]\n",
    "print(\"Sum test sale:\", sum_sale)"
   ]
  },
  {
   "cell_type": "code",
   "execution_count": 29,
   "id": "d1daa5c2-4d60-4d2f-850b-879bd10ff308",
   "metadata": {},
   "outputs": [],
   "source": [
    "def get_moneytary_of_user(user_number, list_product):\n",
    "    datum = rfm_test_ui.query(f\"`User number` == {user_number} and `Product Name` in {list_product}\")\n",
    "    money = datum[['Recency', 'Frequency', 'Moneytary']].sum().values.reshape(1, -1)\n",
    "    return scaler.inverse_transform(money)[0][-1]"
   ]
  },
  {
   "cell_type": "markdown",
   "id": "4c3efb84-70e6-4a4e-8a9d-d31d236be333",
   "metadata": {},
   "source": [
    "# Build CF"
   ]
  },
  {
   "cell_type": "code",
   "execution_count": 30,
   "id": "b0c17f8f-e46f-4dda-9bde-0cc39a1512fd",
   "metadata": {},
   "outputs": [],
   "source": [
    "class CF:\n",
    "    def __init__(self, rfm, k = 5):\n",
    "        self.rfm = rfm\n",
    "        self.k = k\n",
    "        self.list_mae = []\n",
    "        self.cluster_label_dict = {}\n",
    "        self.make_ui(self.rfm)\n",
    "        \n",
    "    def add(self, rfm):\n",
    "        self.rfm = pd.concat([self.rfm, rfm])\n",
    "        self.make_ui(self.rfm)\n",
    "        \n",
    "    def make_ui(self, rfm):\n",
    "        self.items = rfm['Product Name'].unique()\n",
    "        self.size_item = self.items.shape[0]\n",
    "        self.item_id = np.arange(self.size_item)\n",
    "        self.map_item = dict(list(zip(self.items, self.item_id)))\n",
    "        \n",
    "        # tạo nơi chứa dữ liệu cho từng cụm\n",
    "        self.cluster_data = defaultdict(dict)\n",
    "        \n",
    "        # lặp qua tất cả cụm\n",
    "        for label in rfm['Cluster Label'].unique():\n",
    "            \n",
    "            # lấy data cho từng cụm\n",
    "            cluster_rfm = rfm[rfm['Cluster Label'] == label]\n",
    "            \n",
    "            # lấy danh sách user duy nhất\n",
    "            users = cluster_rfm['User number'].unique()\n",
    "            \n",
    "            users_dict = {user: label for user in users}\n",
    "            self.cluster_label_dict.update(users_dict)\n",
    "            \n",
    "            # tạo biến lưu kích cỡ user\n",
    "            size_user = users.shape[0]\n",
    "            \n",
    "            # tạo index cho user\n",
    "            user_id = np.arange(size_user)\n",
    "            \n",
    "            # tạo một ánh xạ giữa user và index\n",
    "            map_user = dict(list(zip(users, user_id)))\n",
    "            \n",
    "            # lấy danh sách index của user và item\n",
    "            user_indices = cluster_rfm['User number'].map(map_user)\n",
    "            item_indices = cluster_rfm['Product Name'].map(self.map_item)\n",
    "            \n",
    "            ui_matrix = coo_matrix(\n",
    "                (cluster_rfm.Rating, (user_indices, item_indices)),\n",
    "                shape=(size_user, self.size_item)\n",
    "            ).tocsr().toarray()\n",
    "            \n",
    "            # pearson correlation\n",
    "            sim = pd.DataFrame(ui_matrix).T.corr().values\n",
    "            \n",
    "            self.cluster_data[label]['rfm'] = cluster_rfm\n",
    "            self.cluster_data[label]['user_id'] = user_id\n",
    "            self.cluster_data[label]['map_user'] = map_user\n",
    "            self.cluster_data[label]['ui_matrix'] = ui_matrix\n",
    "            self.cluster_data[label]['sim'] = sim\n",
    "    \n",
    "    def recommend(self, user_number):\n",
    "        '''\n",
    "            nhận vào một user number từ tập dữ liệu test\n",
    "            sau đó trả về danh sách những sản phẩm được khuyến nghị\n",
    "        '''\n",
    "        # tìm cụm mà user đó thuộc về\n",
    "        cluster_label = self.cluster_label_dict[user_number]\n",
    "                \n",
    "        cluster_data = self.cluster_data[cluster_label]\n",
    "        rfm_data = cluster_data['rfm']\n",
    "        map_user = cluster_data['map_user']\n",
    "        user_item = cluster_data['ui_matrix']\n",
    "        similarity_matrix = cluster_data['sim']\n",
    "        \n",
    "        # tìm index của user theo id\n",
    "        user_idx = map_user[user_number]\n",
    "\n",
    "        list_product_recommendation = []\n",
    "        # lặp qua tất cả sản phẩm hiện có\n",
    "        for product_name, product_idx in self.map_item.items():\n",
    "            bought = False\n",
    "\n",
    "            # tìm tất cả user đã mua sản phẩm đó\n",
    "            user_rated_product = rfm_data.query(f'`Product Name` == \"{product_name}\"')['User number'].values\n",
    "            user_rated_product = np.array([map_user[i] for i in user_rated_product])\n",
    "\n",
    "            if user_idx in user_rated_product:\n",
    "                bought = True\n",
    "            \n",
    "            # khi user chưa mua thì phải \n",
    "            # tính rating dự đoán\n",
    "            if user_rated_product.shape[0] > 0: \n",
    "                # tìm các hệ số tương quan giữa user mong muốn và tất cả user đã rate\n",
    "                \n",
    "                sim = similarity_matrix[user_idx, user_rated_product]\n",
    "                k_sim = np.argsort(sim)[-self.k:] # chỉ lấy k user tương tự user hiện tại\n",
    "                # phần k-nearest neighbors\n",
    "\n",
    "                sim = sim[k_sim]\n",
    "                user_rated_product = user_rated_product[k_sim]\n",
    "\n",
    "                # sim = sim[sim < 1] # loại bỏ giá trị có tương quan là 1, vì nó tương quan với chính nó\n",
    "                rating = user_item[user_rated_product, product_idx] # lấy list rating của những user đã rate\n",
    "\n",
    "                mean_rating = user_item[user_rated_product].mean(axis=1)\n",
    "\n",
    "                # tính hệ số rating dự đoán, tổng trọng số giữa rating và độ tương quan\n",
    "                r = user_item[user_idx].mean() + (sim * (rating - mean_rating)).sum() / (sim.sum() + 1e-8)\n",
    "            else: # chưa có ai mua sản phẩm này trong cùng một cụm cả\n",
    "                r = 0\n",
    "            \n",
    "            if bought:\n",
    "                # chỉ tính mae trên những rating có sẵn\n",
    "                pred_value = r\n",
    "                true_value = user_item[user_idx, product_idx]\n",
    "                self.list_mae = [abs(pred_value - true_value)]\n",
    "\n",
    "            # đưa vào tuple (product id, rating, bought, is recommend) -> tí nữa sắp xếp giảm dần\n",
    "            list_product_recommendation.append((product_name, r, bought, r > 0))\n",
    "\n",
    "        # sắp xếp giảm dần theo rating dự đoán\n",
    "        list_product_recommendation = sorted(list_product_recommendation, key=lambda x: x[1], reverse=True)\n",
    "        \n",
    "        limit = 10 # \n",
    "        list_product_recommendation = list_product_recommendation[:limit]\n",
    "        \n",
    "        return list_product_recommendation, cluster_label\n",
    "\n",
    "    \n",
    "    def cal_mae(self, list_user_number):\n",
    "        self.list_mae = []\n",
    "        with cfutures.ThreadPoolExecutor() as exe:\n",
    "            exe.map(self.recommend, list_user_number)\n",
    "        mae = np.array(self.list_mae)\n",
    "        return mae.sum() / mae.shape[0]\n",
    "        \n",
    "    def __repr__(self):\n",
    "        return '<CF>'.format(self)"
   ]
  },
  {
   "cell_type": "markdown",
   "id": "cf4f3bdb-1ea7-4434-828e-dd206f73cc6e",
   "metadata": {},
   "source": [
    "# Find best K for Collaborative Filtering"
   ]
  },
  {
   "cell_type": "code",
   "execution_count": 31,
   "id": "a4b3b1f1-a592-4d6b-aa42-7303b5387a06",
   "metadata": {},
   "outputs": [],
   "source": [
    "list_test_user = test['User number'].unique().tolist()"
   ]
  },
  {
   "cell_type": "code",
   "execution_count": 32,
   "id": "93903135-ad0f-43cd-b2dc-376348c623eb",
   "metadata": {},
   "outputs": [
    {
     "name": "stdout",
     "output_type": "stream",
     "text": [
      "20 0.05246080755465782\n",
      "30 0.05003011992251746\n",
      "50 0.04435792873445914\n",
      "60 0.04891207491646765\n",
      "CPU times: total: 1min 52s\n",
      "Wall time: 1min 57s\n"
     ]
    }
   ],
   "source": [
    "%%time\n",
    "\n",
    "list_k = [20, 30, 50, 60]\n",
    "list_mae = []\n",
    "\n",
    "random_100_user = np.random.choice(list_test_user, size=100)\n",
    "\n",
    "for k in list_k:\n",
    "    cf = CF(rfm_train_ui, k=k)\n",
    "    cf.add(rfm_test_ui)\n",
    "    mae = cf.cal_mae(random_100_user)\n",
    "    list_mae.append(mae)\n",
    "    print(k, mae)"
   ]
  },
  {
   "cell_type": "code",
   "execution_count": 33,
   "id": "44da787b-9509-4ee8-bea7-59f794ec840e",
   "metadata": {},
   "outputs": [
    {
     "data": {
      "image/png": "[encoded data removed]",
      "text/plain": [
       "<Figure size 432x288 with 1 Axes>"
      ]
     },
     "metadata": {
      "needs_background": "light"
     },
     "output_type": "display_data"
    }
   ],
   "source": [
    "fig, ax = plt.subplots()\n",
    "ax.plot(list_k, list_mae)\n",
    "ax.scatter(list_k, list_mae)\n",
    "ax.grid(True, alpha=.25, ls='-.')\n",
    "ax.set_ylabel(\"Mean Absolute Error\")\n",
    "ax.set_xlabel(\"K\")\n",
    "ax.set_title(\"Randomly pick 100 user to calculate MAE for picking k\")\n",
    "fig.tight_layout()\n",
    "plt.savefig('picking_k.jpg')\n",
    "plt.show()"
   ]
  },
  {
   "cell_type": "code",
   "execution_count": 34,
   "id": "3e8a36dd",
   "metadata": {},
   "outputs": [
    {
     "data": {
      "text/plain": [
       "50"
      ]
     },
     "execution_count": 34,
     "metadata": {},
     "output_type": "execute_result"
    }
   ],
   "source": [
    "best_k = list_k[np.argmin(list_mae)]\n",
    "best_k"
   ]
  },
  {
   "cell_type": "code",
   "execution_count": 35,
   "id": "c5e1b471",
   "metadata": {},
   "outputs": [
    {
     "name": "stdout",
     "output_type": "stream",
     "text": [
      "CPU times: total: 11.2 s\n",
      "Wall time: 12.7 s\n"
     ]
    }
   ],
   "source": [
    "%%time\n",
    "\n",
    "# khởi tạo đối tượng CF (collaborative filtering)\n",
    "# với bộ dữ liệu train\n",
    "cf = CF(rfm_train_ui, k=best_k)\n",
    "\n",
    "# thêm tập dữ liệu test vào để chuẩn bị test\n",
    "cf.add(rfm_test_ui)"
   ]
  },
  {
   "cell_type": "code",
   "execution_count": 36,
   "id": "b21b1909-dc61-48e9-b0de-019d4cdef0a3",
   "metadata": {},
   "outputs": [],
   "source": [
    "ui_matrix = cf.cluster_data[0]['ui_matrix']\n",
    "map_user = cf.cluster_data[0]['map_user']\n",
    "\n",
    "items = list(cf.map_item.keys())\n",
    "users = list(map_user.keys())\n",
    "pd.DataFrame(ui_matrix, columns=items, index=users).replace(0, np.nan).to_csv('user_item.csv')"
   ]
  },
  {
   "cell_type": "code",
   "execution_count": 37,
   "id": "cf5e9ab2-6cba-4a6f-9bbb-e8dd85e942d2",
   "metadata": {},
   "outputs": [],
   "source": [
    "def cal_confusion_matrix(user, out):\n",
    "    data = pd.DataFrame(out, columns=['name', 'rating', 'bought', 'recommended'])\n",
    "    tp = data.query('bought == 1 and recommended == 1').shape[0]\n",
    "    fp = data.query('bought == 0 and recommended == 1').shape[0]\n",
    "    fn = data.query('bought == 1 and recommended == 0').shape[0]\n",
    "    tn = data.query('bought == 0 and recommended == 0').shape[0]\n",
    "    \n",
    "    list_product = data.query('bought == 1 and recommended == 1')['name'].values.tolist()\n",
    "    \n",
    "    moneytary = get_moneytary_of_user(user, list_product)\n",
    "    return tp, fp, fn, tn, moneytary"
   ]
  },
  {
   "cell_type": "markdown",
   "id": "ee69cf5e-0c85-4857-bd6d-2f3f11082ba3",
   "metadata": {},
   "source": [
    "# Calculate F1 Score"
   ]
  },
  {
   "cell_type": "code",
   "execution_count": 38,
   "id": "47f33ee8-30d7-4de5-b11b-65c069249bb4",
   "metadata": {
    "tags": []
   },
   "outputs": [
    {
     "name": "stdout",
     "output_type": "stream",
     "text": [
      "CPU times: total: 53.8 s\n",
      "Wall time: 57 s\n"
     ]
    }
   ],
   "source": [
    "%%time\n",
    "\n",
    "def cal(user):\n",
    "    out, cluster_label = cf.recommend(user)\n",
    "    return cluster_label, cal_confusion_matrix(user, out)\n",
    "\n",
    "with cfutures.ThreadPoolExecutor() as exe:\n",
    "    list_confusion_matrix = list(exe.map(cal, list_test_user))"
   ]
  },
  {
   "cell_type": "code",
   "execution_count": 39,
   "id": "722048c2-4941-4764-a2a5-be830d410c72",
   "metadata": {},
   "outputs": [],
   "source": [
    "# cộng tất cả tn, fp, fn, tn của tất cả user với nhau\n",
    "metrics = defaultdict(lambda : defaultdict(int))\n",
    "for cluster_label, (_tp, _fp, _fn, _tn, moneytary) in list_confusion_matrix:\n",
    "    metrics[cluster_label]['tp'] += _tp\n",
    "    metrics[cluster_label]['fp'] += _fp\n",
    "    metrics[cluster_label]['fn'] += _fn\n",
    "    metrics[cluster_label]['tn'] += _tn\n",
    "    metrics[cluster_label]['moneytary'] += moneytary        "
   ]
  },
  {
   "cell_type": "code",
   "execution_count": 40,
   "id": "12a7ea0c-52c2-4933-b297-a26348138f38",
   "metadata": {},
   "outputs": [
    {
     "data": {
      "text/plain": [
       "defaultdict(<function __main__.<lambda>()>,\n",
       "            {2: defaultdict(int,\n",
       "                         {'tp': 297,\n",
       "                          'fp': 2093,\n",
       "                          'fn': 0,\n",
       "                          'tn': 0,\n",
       "                          'moneytary': 4068584000.0})})"
      ]
     },
     "execution_count": 40,
     "metadata": {},
     "output_type": "execute_result"
    }
   ],
   "source": [
    "metrics"
   ]
  },
  {
   "cell_type": "code",
   "execution_count": 41,
   "id": "efc3b5c2-435d-43df-a364-a1d9355f729b",
   "metadata": {},
   "outputs": [],
   "source": [
    "for label, data in metrics.items():\n",
    "    precision = data['tp'] / (data['tp'] + data['fp'])\n",
    "    recall = data['tp'] / (data['tp'] + data['fn'])\n",
    "    f1_score = (2 * precision * recall) / (precision + recall)\n",
    "    metrics[label]['precision'] = precision\n",
    "    metrics[label]['recall'] = recall\n",
    "    metrics[label]['f1_score'] = f1_score"
   ]
  },
  {
   "cell_type": "code",
   "execution_count": 42,
   "id": "802643da-f10b-433d-b803-496e4c2fa786",
   "metadata": {},
   "outputs": [
    {
     "name": "stdout",
     "output_type": "stream",
     "text": [
      "Label: 2\n",
      "Precision: 0.12426778242677824\n",
      "Recall: 1.0\n",
      "F1: 0.22106438407145518\n",
      "==================================================\n"
     ]
    }
   ],
   "source": [
    "for label, data in metrics.items():\n",
    "    print(\"Label:\", label)\n",
    "    print(\"Precision:\", data['precision'])\n",
    "    print(\"Recall:\", data['recall'])\n",
    "    print(\"F1:\", data['f1_score'])\n",
    "    print(\"=\"*50)"
   ]
  },
  {
   "cell_type": "code",
   "execution_count": 43,
   "id": "d6556ccf-c2ff-40ac-9f48-b66912e6cb3a",
   "metadata": {},
   "outputs": [],
   "source": [
    "def get_recommendation(user_number):\n",
    "    out, label = cf.recommend(user_number)\n",
    "    data = pd.DataFrame(out, columns=['name', 'rating', 'bought', 'recommended'])\n",
    "    return data"
   ]
  },
  {
   "cell_type": "code",
   "execution_count": 44,
   "id": "a8c1c9ea",
   "metadata": {},
   "outputs": [
    {
     "data": {
      "text/html": [
       "<div>\n",
       "<style scoped>\n",
       "    .dataframe tbody tr th:only-of-type {\n",
       "        vertical-align: middle;\n",
       "    }\n",
       "\n",
       "    .dataframe tbody tr th {\n",
       "        vertical-align: top;\n",
       "    }\n",
       "\n",
       "    .dataframe thead th {\n",
       "        text-align: right;\n",
       "    }\n",
       "</style>\n",
       "<table border=\"1\" class=\"dataframe\">\n",
       "  <thead>\n",
       "    <tr style=\"text-align: right;\">\n",
       "      <th></th>\n",
       "      <th>User number</th>\n",
       "      <th>Product Name</th>\n",
       "      <th>Recency</th>\n",
       "      <th>Frequency</th>\n",
       "      <th>Moneytary</th>\n",
       "      <th>Cluster Label</th>\n",
       "      <th>Rating</th>\n",
       "    </tr>\n",
       "  </thead>\n",
       "  <tbody>\n",
       "    <tr>\n",
       "      <th>0</th>\n",
       "      <td>101000281</td>\n",
       "      <td>Membership_1M</td>\n",
       "      <td>0.161538</td>\n",
       "      <td>0.028037</td>\n",
       "      <td>0.015943</td>\n",
       "      <td>2</td>\n",
       "      <td>0.041419</td>\n",
       "    </tr>\n",
       "    <tr>\n",
       "      <th>1</th>\n",
       "      <td>101000281</td>\n",
       "      <td>PT 30 session</td>\n",
       "      <td>0.584615</td>\n",
       "      <td>0.000000</td>\n",
       "      <td>0.192857</td>\n",
       "      <td>2</td>\n",
       "      <td>0.171923</td>\n",
       "    </tr>\n",
       "    <tr>\n",
       "      <th>2</th>\n",
       "      <td>101000670</td>\n",
       "      <td>Membership_6M</td>\n",
       "      <td>0.392308</td>\n",
       "      <td>0.000000</td>\n",
       "      <td>0.024286</td>\n",
       "      <td>2</td>\n",
       "      <td>0.066903</td>\n",
       "    </tr>\n",
       "    <tr>\n",
       "      <th>3</th>\n",
       "      <td>101000670</td>\n",
       "      <td>PT 30 session</td>\n",
       "      <td>0.300000</td>\n",
       "      <td>0.000000</td>\n",
       "      <td>0.192857</td>\n",
       "      <td>2</td>\n",
       "      <td>0.131507</td>\n",
       "    </tr>\n",
       "    <tr>\n",
       "      <th>4</th>\n",
       "      <td>101002703</td>\n",
       "      <td>Membership_1M</td>\n",
       "      <td>0.038462</td>\n",
       "      <td>0.028037</td>\n",
       "      <td>0.015943</td>\n",
       "      <td>2</td>\n",
       "      <td>0.023942</td>\n",
       "    </tr>\n",
       "    <tr>\n",
       "      <th>...</th>\n",
       "      <td>...</td>\n",
       "      <td>...</td>\n",
       "      <td>...</td>\n",
       "      <td>...</td>\n",
       "      <td>...</td>\n",
       "      <td>...</td>\n",
       "      <td>...</td>\n",
       "    </tr>\n",
       "    <tr>\n",
       "      <th>626</th>\n",
       "      <td>105002780</td>\n",
       "      <td>PT 50 session</td>\n",
       "      <td>0.069231</td>\n",
       "      <td>0.000000</td>\n",
       "      <td>0.285714</td>\n",
       "      <td>2</td>\n",
       "      <td>0.141545</td>\n",
       "    </tr>\n",
       "    <tr>\n",
       "      <th>627</th>\n",
       "      <td>105002784</td>\n",
       "      <td>Membership_6M</td>\n",
       "      <td>0.100000</td>\n",
       "      <td>0.000000</td>\n",
       "      <td>0.024286</td>\n",
       "      <td>2</td>\n",
       "      <td>0.025396</td>\n",
       "    </tr>\n",
       "    <tr>\n",
       "      <th>628</th>\n",
       "      <td>105002784</td>\n",
       "      <td>PT 30 session</td>\n",
       "      <td>0.076923</td>\n",
       "      <td>0.000000</td>\n",
       "      <td>0.192857</td>\n",
       "      <td>2</td>\n",
       "      <td>0.099830</td>\n",
       "    </tr>\n",
       "    <tr>\n",
       "      <th>629</th>\n",
       "      <td>105002844</td>\n",
       "      <td>Membership_6M</td>\n",
       "      <td>0.053846</td>\n",
       "      <td>0.000000</td>\n",
       "      <td>0.024286</td>\n",
       "      <td>2</td>\n",
       "      <td>0.018842</td>\n",
       "    </tr>\n",
       "    <tr>\n",
       "      <th>630</th>\n",
       "      <td>105002844</td>\n",
       "      <td>PT 30 session</td>\n",
       "      <td>0.053846</td>\n",
       "      <td>0.000000</td>\n",
       "      <td>0.192857</td>\n",
       "      <td>2</td>\n",
       "      <td>0.096553</td>\n",
       "    </tr>\n",
       "  </tbody>\n",
       "</table>\n",
       "<p>631 rows × 7 columns</p>\n",
       "</div>"
      ],
      "text/plain": [
       "     User number   Product Name   Recency  Frequency  Moneytary  \\\n",
       "0      101000281  Membership_1M  0.161538   0.028037   0.015943   \n",
       "1      101000281  PT 30 session  0.584615   0.000000   0.192857   \n",
       "2      101000670  Membership_6M  0.392308   0.000000   0.024286   \n",
       "3      101000670  PT 30 session  0.300000   0.000000   0.192857   \n",
       "4      101002703  Membership_1M  0.038462   0.028037   0.015943   \n",
       "..           ...            ...       ...        ...        ...   \n",
       "626    105002780  PT 50 session  0.069231   0.000000   0.285714   \n",
       "627    105002784  Membership_6M  0.100000   0.000000   0.024286   \n",
       "628    105002784  PT 30 session  0.076923   0.000000   0.192857   \n",
       "629    105002844  Membership_6M  0.053846   0.000000   0.024286   \n",
       "630    105002844  PT 30 session  0.053846   0.000000   0.192857   \n",
       "\n",
       "     Cluster Label    Rating  \n",
       "0                2  0.041419  \n",
       "1                2  0.171923  \n",
       "2                2  0.066903  \n",
       "3                2  0.131507  \n",
       "4                2  0.023942  \n",
       "..             ...       ...  \n",
       "626              2  0.141545  \n",
       "627              2  0.025396  \n",
       "628              2  0.099830  \n",
       "629              2  0.018842  \n",
       "630              2  0.096553  \n",
       "\n",
       "[631 rows x 7 columns]"
      ]
     },
     "execution_count": 44,
     "metadata": {},
     "output_type": "execute_result"
    }
   ],
   "source": [
    "rfm_test_ui"
   ]
  },
  {
   "cell_type": "code",
   "execution_count": 45,
   "id": "2aa444ba-147b-4c82-a62e-e1e3d7195bf5",
   "metadata": {},
   "outputs": [
    {
     "name": "stdout",
     "output_type": "stream",
     "text": [
      "CPU times: total: 172 ms\n",
      "Wall time: 168 ms\n"
     ]
    },
    {
     "data": {
      "text/html": [
       "<div>\n",
       "<style scoped>\n",
       "    .dataframe tbody tr th:only-of-type {\n",
       "        vertical-align: middle;\n",
       "    }\n",
       "\n",
       "    .dataframe tbody tr th {\n",
       "        vertical-align: top;\n",
       "    }\n",
       "\n",
       "    .dataframe thead th {\n",
       "        text-align: right;\n",
       "    }\n",
       "</style>\n",
       "<table border=\"1\" class=\"dataframe\">\n",
       "  <thead>\n",
       "    <tr style=\"text-align: right;\">\n",
       "      <th></th>\n",
       "      <th>name</th>\n",
       "      <th>rating</th>\n",
       "      <th>bought</th>\n",
       "      <th>recommended</th>\n",
       "    </tr>\n",
       "  </thead>\n",
       "  <tbody>\n",
       "    <tr>\n",
       "      <th>0</th>\n",
       "      <td>Water - Aquafina 500ml</td>\n",
       "      <td>1.861918</td>\n",
       "      <td>False</td>\n",
       "      <td>True</td>\n",
       "    </tr>\n",
       "    <tr>\n",
       "      <th>1</th>\n",
       "      <td>Water - Revive White 500ml</td>\n",
       "      <td>0.801798</td>\n",
       "      <td>False</td>\n",
       "      <td>True</td>\n",
       "    </tr>\n",
       "    <tr>\n",
       "      <th>2</th>\n",
       "      <td>Water - Revive Organe 500ml</td>\n",
       "      <td>0.744063</td>\n",
       "      <td>False</td>\n",
       "      <td>True</td>\n",
       "    </tr>\n",
       "    <tr>\n",
       "      <th>3</th>\n",
       "      <td>PT 100 session</td>\n",
       "      <td>0.551697</td>\n",
       "      <td>False</td>\n",
       "      <td>True</td>\n",
       "    </tr>\n",
       "    <tr>\n",
       "      <th>4</th>\n",
       "      <td>Shaker</td>\n",
       "      <td>0.469663</td>\n",
       "      <td>False</td>\n",
       "      <td>True</td>\n",
       "    </tr>\n",
       "    <tr>\n",
       "      <th>5</th>\n",
       "      <td>Lock</td>\n",
       "      <td>0.467665</td>\n",
       "      <td>False</td>\n",
       "      <td>True</td>\n",
       "    </tr>\n",
       "    <tr>\n",
       "      <th>6</th>\n",
       "      <td>PT 10 upgrade to 100 session</td>\n",
       "      <td>0.245342</td>\n",
       "      <td>False</td>\n",
       "      <td>True</td>\n",
       "    </tr>\n",
       "    <tr>\n",
       "      <th>7</th>\n",
       "      <td>PT 50 session</td>\n",
       "      <td>0.203528</td>\n",
       "      <td>True</td>\n",
       "      <td>True</td>\n",
       "    </tr>\n",
       "    <tr>\n",
       "      <th>8</th>\n",
       "      <td>PT 30 session</td>\n",
       "      <td>0.168809</td>\n",
       "      <td>False</td>\n",
       "      <td>True</td>\n",
       "    </tr>\n",
       "    <tr>\n",
       "      <th>9</th>\n",
       "      <td>PT 10 upgrade to 50 session</td>\n",
       "      <td>0.156932</td>\n",
       "      <td>False</td>\n",
       "      <td>True</td>\n",
       "    </tr>\n",
       "  </tbody>\n",
       "</table>\n",
       "</div>"
      ],
      "text/plain": [
       "                           name    rating  bought  recommended\n",
       "0        Water - Aquafina 500ml  1.861918   False         True\n",
       "1    Water - Revive White 500ml  0.801798   False         True\n",
       "2   Water - Revive Organe 500ml  0.744063   False         True\n",
       "3                PT 100 session  0.551697   False         True\n",
       "4                        Shaker  0.469663   False         True\n",
       "5                          Lock  0.467665   False         True\n",
       "6  PT 10 upgrade to 100 session  0.245342   False         True\n",
       "7                 PT 50 session  0.203528    True         True\n",
       "8                 PT 30 session  0.168809   False         True\n",
       "9   PT 10 upgrade to 50 session  0.156932   False         True"
      ]
     },
     "execution_count": 45,
     "metadata": {},
     "output_type": "execute_result"
    }
   ],
   "source": [
    "%%time\n",
    "\n",
    "# chỗ này đưa ra danh sách dự đoán sản phẩm\n",
    "# cho một user number nào đó lấy từ tập test\n",
    "user_number = 105002780\n",
    "recommended = get_recommendation(user_number)\n",
    "recommended"
   ]
  },
  {
   "cell_type": "code",
   "execution_count": 46,
   "id": "9b95878e",
   "metadata": {},
   "outputs": [
    {
     "data": {
      "text/plain": [
       "7    PT 50 session\n",
       "Name: name, dtype: object"
      ]
     },
     "execution_count": 46,
     "metadata": {},
     "output_type": "execute_result"
    }
   ],
   "source": [
    "bought = recommended.query('bought == True').name\n",
    "bought"
   ]
  },
  {
   "cell_type": "code",
   "execution_count": 59,
   "id": "8a9898f6",
   "metadata": {},
   "outputs": [
    {
     "name": "stdout",
     "output_type": "stream",
     "text": [
      "moneytary của user đối với những sản phẩm được recommend và đã mua\n"
     ]
    },
    {
     "data": {
      "text/plain": [
       "20000000.0"
      ]
     },
     "execution_count": 59,
     "metadata": {},
     "output_type": "execute_result"
    }
   ],
   "source": [
    "print(\"moneytary của user đối với những sản phẩm được recommend và đã mua\")\n",
    "value = rfm_test_ui[(\n",
    "    (rfm_test_ui['User number'] == user_number)\n",
    "    & (rfm_test_ui['Product Name'].isin(bought))\n",
    ")][['Recency', 'Frequency', 'Moneytary']].sum().values.reshape(1, -1)\n",
    "scaler.inverse_transform(value)[0][-1]"
   ]
  },
  {
   "cell_type": "code",
   "execution_count": 61,
   "id": "f5edec1b",
   "metadata": {},
   "outputs": [
    {
     "name": "stdout",
     "output_type": "stream",
     "text": [
      "moneytary của tất cả user đối với những sản phẩm được recommend và đã mua\n"
     ]
    },
    {
     "data": {
      "text/plain": [
       "1060000000.0000001"
      ]
     },
     "execution_count": 61,
     "metadata": {},
     "output_type": "execute_result"
    }
   ],
   "source": [
    "print(\"moneytary của tất cả user đối với những sản phẩm được recommend và đã mua\")\n",
    "value = rfm_test_ui[rfm_test_ui['Product Name'].isin(bought)][\n",
    "    ['Recency', 'Frequency', 'Moneytary']\n",
    "].sum().values.reshape(1, -1)\n",
    "scaler.inverse_transform(value)[0][-1]"
   ]
  }
 ],
 "metadata": {
  "kernelspec": {
   "display_name": "Python 3.9.12 ('base')",
   "language": "python",
   "name": "python3"
  },
  "language_info": {
   "codemirror_mode": {
    "name": "ipython",
    "version": 3
   },
   "file_extension": ".py",
   "mimetype": "text/x-python",
   "name": "python",
   "nbconvert_exporter": "python",
   "pygments_lexer": "ipython3",
   "version": "3.9.12"
  },
  "vscode": {
   "interpreter": {
    "hash": "fa563d11e75c942aece5ea8a3de79b0ba083bdd0e8a1341ef920cc7e56562bc8"
   }
  }
 },
 "nbformat": 4,
 "nbformat_minor": 5
}
